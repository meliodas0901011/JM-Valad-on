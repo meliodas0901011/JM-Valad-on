{
 "cells": [
  {
   "cell_type": "code",
   "execution_count": 1,
   "id": "3e71855b",
   "metadata": {},
   "outputs": [],
   "source": [
    "#Import Necessary Libraries\n",
    "import numpy as np\n",
    "import pandas as pd\n",
    "import matplotlib.pyplot as plt\n",
    "import seaborn as sns\n",
    "%matplotlib inline\n",
    "\n",
    "# ignore Deprecation Warning\n",
    "import warnings\n",
    "warnings.filterwarnings(\"ignore\", category=DeprecationWarning) \n",
    "\n",
    "# Random Forest Regressor\n",
    "from sklearn.ensemble import RandomForestRegressor\n",
    "\n",
    "# Neural Network\n",
    "import keras \n",
    "from keras.models import Sequential \n",
    "from keras.layers import Dense"
   ]
  },
  {
   "cell_type": "code",
   "execution_count": 2,
   "id": "334f3a64",
   "metadata": {},
   "outputs": [
    {
     "name": "stdout",
     "output_type": "stream",
     "text": [
      "(891, 12) (418, 11) ['PassengerId' 'Survived' 'Pclass' 'Name' 'Sex' 'Age' 'SibSp' 'Parch'\n",
      " 'Ticket' 'Fare' 'Cabin' 'Embarked']\n"
     ]
    },
    {
     "name": "stderr",
     "output_type": "stream",
     "text": [
      "C:\\Users\\jmval\\AppData\\Local\\Temp\\ipykernel_1472\\3331746066.py:4: FutureWarning: The frame.append method is deprecated and will be removed from pandas in a future version. Use pandas.concat instead.\n",
      "  df = titanic.append(survivor , ignore_index = True)\n"
     ]
    }
   ],
   "source": [
    "# # Gathering and Establing the Data set from https://www.kaggle.com/competitions/titanic/data\n",
    "titanic = pd.read_csv('train.csv')\n",
    "survivor = pd.read_csv('test.csv')\n",
    "df = titanic.append(survivor , ignore_index = True)\n",
    "\n",
    "# analyzing the data\n",
    "print(titanic.shape, survivor.shape, titanic.columns.values)"
   ]
  },
  {
   "cell_type": "code",
   "execution_count": 3,
   "id": "5ad3ecc7",
   "metadata": {},
   "outputs": [
    {
     "data": {
      "text/plain": [
       "0"
      ]
     },
     "execution_count": 3,
     "metadata": {},
     "output_type": "execute_result"
    }
   ],
   "source": [
    "# Preparing and analyzing the data\n",
    "# check if there is any NAN\n",
    "df['Pclass'].isnull().sum(axis=0)"
   ]
  },
  {
   "cell_type": "code",
   "execution_count": 4,
   "id": "2eb02b06",
   "metadata": {},
   "outputs": [
    {
     "data": {
      "text/html": [
       "<div>\n",
       "<style scoped>\n",
       "    .dataframe tbody tr th:only-of-type {\n",
       "        vertical-align: middle;\n",
       "    }\n",
       "\n",
       "    .dataframe tbody tr th {\n",
       "        vertical-align: top;\n",
       "    }\n",
       "\n",
       "    .dataframe thead th {\n",
       "        text-align: right;\n",
       "    }\n",
       "</style>\n",
       "<table border=\"1\" class=\"dataframe\">\n",
       "  <thead>\n",
       "    <tr style=\"text-align: right;\">\n",
       "      <th></th>\n",
       "      <th>Pclass</th>\n",
       "      <th>Survived</th>\n",
       "    </tr>\n",
       "  </thead>\n",
       "  <tbody>\n",
       "    <tr>\n",
       "      <th>0</th>\n",
       "      <td>1</td>\n",
       "      <td>0.629630</td>\n",
       "    </tr>\n",
       "    <tr>\n",
       "      <th>1</th>\n",
       "      <td>2</td>\n",
       "      <td>0.472826</td>\n",
       "    </tr>\n",
       "    <tr>\n",
       "      <th>2</th>\n",
       "      <td>3</td>\n",
       "      <td>0.242363</td>\n",
       "    </tr>\n",
       "  </tbody>\n",
       "</table>\n",
       "</div>"
      ],
      "text/plain": [
       "   Pclass  Survived\n",
       "0       1  0.629630\n",
       "1       2  0.472826\n",
       "2       3  0.242363"
      ]
     },
     "execution_count": 4,
     "metadata": {},
     "output_type": "execute_result"
    }
   ],
   "source": [
    "# inspect the correlation between Pclass and Survived\n",
    "df[['Pclass', 'Survived']].groupby(['Pclass'], as_index=False).mean()"
   ]
  },
  {
   "cell_type": "code",
   "execution_count": 5,
   "id": "e918a433",
   "metadata": {},
   "outputs": [
    {
     "data": {
      "text/plain": [
       "<AxesSubplot:>"
      ]
     },
     "execution_count": 5,
     "metadata": {},
     "output_type": "execute_result"
    },
    {
     "data": {
      "image/png": "[encoded data removed]",
      "text/plain": [
       "<Figure size 432x288 with 1 Axes>"
      ]
     },
     "metadata": {
      "needs_background": "light"
     },
     "output_type": "display_data"
    }
   ],
   "source": [
    "#Analyzing of the data\n",
    "titanic['Survived'].hist() #histogram"
   ]
  },
  {
   "cell_type": "code",
   "execution_count": 6,
   "id": "6f4fe314",
   "metadata": {},
   "outputs": [
    {
     "data": {
      "text/plain": [
       "<seaborn.axisgrid.FacetGrid at 0x17cb4b11bb0>"
      ]
     },
     "execution_count": 6,
     "metadata": {},
     "output_type": "execute_result"
    },
    {
     "data": {
      "image/png": "[encoded data removed]",
      "text/plain": [
       "<Figure size 360x360 with 1 Axes>"
      ]
     },
     "metadata": {
      "needs_background": "light"
     },
     "output_type": "display_data"
    }
   ],
   "source": [
    "#Analyzing of the data\n",
    "sns.catplot(x=\"Survived\", kind=\"count\", palette=\"ch:.25\", data=titanic) #bar graph of survived"
   ]
  },
  {
   "cell_type": "code",
   "execution_count": 7,
   "id": "ae4d0af1",
   "metadata": {},
   "outputs": [
    {
     "data": {
      "text/plain": [
       "0                              Braund, Mr. Owen Harris\n",
       "1    Cumings, Mrs. John Bradley (Florence Briggs Th...\n",
       "2                               Heikkinen, Miss. Laina\n",
       "3         Futrelle, Mrs. Jacques Heath (Lily May Peel)\n",
       "4                             Allen, Mr. William Henry\n",
       "5                                     Moran, Mr. James\n",
       "6                              McCarthy, Mr. Timothy J\n",
       "7                       Palsson, Master. Gosta Leonard\n",
       "8    Johnson, Mrs. Oscar W (Elisabeth Vilhelmina Berg)\n",
       "9                  Nasser, Mrs. Nicholas (Adele Achem)\n",
       "Name: Name, dtype: object"
      ]
     },
     "execution_count": 7,
     "metadata": {},
     "output_type": "execute_result"
    }
   ],
   "source": [
    "#Analyzing of the data\n",
    "df.Name.head(10)"
   ]
  },
  {
   "cell_type": "code",
   "execution_count": 8,
   "id": "3a70d4c7",
   "metadata": {},
   "outputs": [
    {
     "data": {
      "text/plain": [
       "Mr              757\n",
       "Miss            260\n",
       "Mrs             197\n",
       "Master           61\n",
       "Rev               8\n",
       "Dr                8\n",
       "Col               4\n",
       "Mlle              2\n",
       "Major             2\n",
       "Ms                2\n",
       "Lady              1\n",
       "Sir               1\n",
       "Mme               1\n",
       "Don               1\n",
       "Capt              1\n",
       "the Countess      1\n",
       "Jonkheer          1\n",
       "Dona              1\n",
       "Name: Title, dtype: int64"
      ]
     },
     "execution_count": 8,
     "metadata": {},
     "output_type": "execute_result"
    }
   ],
   "source": [
    "#Analyzing of the data\n",
    "df['Title'] = df.Name.map( lambda x: x.split(',')[1].split( '.' )[0].strip())\n",
    "\n",
    "# inspect the amount of people for each title\n",
    "df['Title'].value_counts()"
   ]
  },
  {
   "cell_type": "code",
   "execution_count": 9,
   "id": "4f14c175",
   "metadata": {},
   "outputs": [
    {
     "name": "stderr",
     "output_type": "stream",
     "text": [
      "C:\\Users\\jmval\\AppData\\Local\\Temp\\ipykernel_1472\\1346816986.py:4: SettingWithCopyWarning: \n",
      "A value is trying to be set on a copy of a slice from a DataFrame\n",
      "\n",
      "See the caveats in the documentation: https://pandas.pydata.org/pandas-docs/stable/user_guide/indexing.html#returning-a-view-versus-a-copy\n",
      "  df.Title.loc[ (df.Title !=  'Master') & (df.Title !=  'Mr') & (df.Title !=  'Miss')\n"
     ]
    },
    {
     "data": {
      "text/html": [
       "<div>\n",
       "<style scoped>\n",
       "    .dataframe tbody tr th:only-of-type {\n",
       "        vertical-align: middle;\n",
       "    }\n",
       "\n",
       "    .dataframe tbody tr th {\n",
       "        vertical-align: top;\n",
       "    }\n",
       "\n",
       "    .dataframe thead th {\n",
       "        text-align: right;\n",
       "    }\n",
       "</style>\n",
       "<table border=\"1\" class=\"dataframe\">\n",
       "  <thead>\n",
       "    <tr style=\"text-align: right;\">\n",
       "      <th></th>\n",
       "      <th>Title</th>\n",
       "      <th>Survived</th>\n",
       "    </tr>\n",
       "  </thead>\n",
       "  <tbody>\n",
       "    <tr>\n",
       "      <th>0</th>\n",
       "      <td>Master</td>\n",
       "      <td>0.575000</td>\n",
       "    </tr>\n",
       "    <tr>\n",
       "      <th>1</th>\n",
       "      <td>Miss</td>\n",
       "      <td>0.701087</td>\n",
       "    </tr>\n",
       "    <tr>\n",
       "      <th>2</th>\n",
       "      <td>Mr</td>\n",
       "      <td>0.156673</td>\n",
       "    </tr>\n",
       "    <tr>\n",
       "      <th>3</th>\n",
       "      <td>Mrs</td>\n",
       "      <td>0.796875</td>\n",
       "    </tr>\n",
       "    <tr>\n",
       "      <th>4</th>\n",
       "      <td>Others</td>\n",
       "      <td>0.318182</td>\n",
       "    </tr>\n",
       "  </tbody>\n",
       "</table>\n",
       "</div>"
      ],
      "text/plain": [
       "    Title  Survived\n",
       "0  Master  0.575000\n",
       "1    Miss  0.701087\n",
       "2      Mr  0.156673\n",
       "3     Mrs  0.796875\n",
       "4  Others  0.318182"
      ]
     },
     "execution_count": 9,
     "metadata": {},
     "output_type": "execute_result"
    }
   ],
   "source": [
    "#taking care of the variable\n",
    "df['Title'] = df['Title'].replace('Mlle', 'Miss')\n",
    "df['Title'] = df['Title'].replace(['Mme','Lady','Ms'], 'Mrs')\n",
    "df.Title.loc[ (df.Title !=  'Master') & (df.Title !=  'Mr') & (df.Title !=  'Miss') \n",
    "             & (df.Title !=  'Mrs')] = 'Others'\n",
    "\n",
    "# inspect the correlation between Title and Survived\n",
    "df[['Title', 'Survived']].groupby(['Title'], as_index=False).mean()"
   ]
  },
  {
   "cell_type": "code",
   "execution_count": 10,
   "id": "b8f32644",
   "metadata": {},
   "outputs": [
    {
     "data": {
      "text/plain": [
       "Mr        757\n",
       "Miss      262\n",
       "Mrs       201\n",
       "Master     61\n",
       "Others     28\n",
       "Name: Title, dtype: int64"
      ]
     },
     "execution_count": 10,
     "metadata": {},
     "output_type": "execute_result"
    }
   ],
   "source": [
    "# inspect the amount of people for each title\n",
    "df['Title'].value_counts()"
   ]
  },
  {
   "cell_type": "code",
   "execution_count": 11,
   "id": "457dddbd",
   "metadata": {},
   "outputs": [],
   "source": [
    "df = pd.concat([df, pd.get_dummies(df['Title'])], axis=1).drop(labels=['Name'], axis=1)"
   ]
  },
  {
   "cell_type": "code",
   "execution_count": 12,
   "id": "11ad8ec7",
   "metadata": {},
   "outputs": [
    {
     "data": {
      "text/plain": [
       "0"
      ]
     },
     "execution_count": 12,
     "metadata": {},
     "output_type": "execute_result"
    }
   ],
   "source": [
    "# check if there is any NAN\n",
    "df.Sex.isnull().sum(axis=0)"
   ]
  },
  {
   "cell_type": "code",
   "execution_count": 13,
   "id": "c3ff328e",
   "metadata": {},
   "outputs": [
    {
     "data": {
      "text/html": [
       "<div>\n",
       "<style scoped>\n",
       "    .dataframe tbody tr th:only-of-type {\n",
       "        vertical-align: middle;\n",
       "    }\n",
       "\n",
       "    .dataframe tbody tr th {\n",
       "        vertical-align: top;\n",
       "    }\n",
       "\n",
       "    .dataframe thead th {\n",
       "        text-align: right;\n",
       "    }\n",
       "</style>\n",
       "<table border=\"1\" class=\"dataframe\">\n",
       "  <thead>\n",
       "    <tr style=\"text-align: right;\">\n",
       "      <th></th>\n",
       "      <th>Sex</th>\n",
       "      <th>Survived</th>\n",
       "    </tr>\n",
       "  </thead>\n",
       "  <tbody>\n",
       "    <tr>\n",
       "      <th>0</th>\n",
       "      <td>female</td>\n",
       "      <td>0.742038</td>\n",
       "    </tr>\n",
       "    <tr>\n",
       "      <th>1</th>\n",
       "      <td>male</td>\n",
       "      <td>0.188908</td>\n",
       "    </tr>\n",
       "  </tbody>\n",
       "</table>\n",
       "</div>"
      ],
      "text/plain": [
       "      Sex  Survived\n",
       "0  female  0.742038\n",
       "1    male  0.188908"
      ]
     },
     "execution_count": 13,
     "metadata": {},
     "output_type": "execute_result"
    }
   ],
   "source": [
    "# inspect the correlation between Sex and Survived\n",
    "df[['Sex', 'Survived']].groupby(['Sex'], as_index=False).mean()"
   ]
  },
  {
   "cell_type": "code",
   "execution_count": 14,
   "id": "fc386f3a",
   "metadata": {},
   "outputs": [],
   "source": [
    "# mapping of two genders 0 and 1\n",
    "df.Sex = df.Sex.map({'male':0, 'female':1})"
   ]
  },
  {
   "cell_type": "code",
   "execution_count": 15,
   "id": "e5a02708",
   "metadata": {},
   "outputs": [
    {
     "data": {
      "text/plain": [
       "263"
      ]
     },
     "execution_count": 15,
     "metadata": {},
     "output_type": "execute_result"
    }
   ],
   "source": [
    "# checking of NAN\n",
    "df.Age.isnull().sum(axis=0)"
   ]
  },
  {
   "cell_type": "code",
   "execution_count": 16,
   "id": "0f39f0df",
   "metadata": {},
   "outputs": [
    {
     "data": {
      "text/plain": [
       "(0, 0)"
      ]
     },
     "execution_count": 16,
     "metadata": {},
     "output_type": "execute_result"
    }
   ],
   "source": [
    "# checking of NAN\n",
    "df.SibSp.isnull().sum(axis=0), df.Parch.isnull().sum(axis=0)"
   ]
  },
  {
   "cell_type": "code",
   "execution_count": 17,
   "id": "d8909e22",
   "metadata": {},
   "outputs": [
    {
     "data": {
      "text/html": [
       "<div>\n",
       "<style scoped>\n",
       "    .dataframe tbody tr th:only-of-type {\n",
       "        vertical-align: middle;\n",
       "    }\n",
       "\n",
       "    .dataframe tbody tr th {\n",
       "        vertical-align: top;\n",
       "    }\n",
       "\n",
       "    .dataframe thead th {\n",
       "        text-align: right;\n",
       "    }\n",
       "</style>\n",
       "<table border=\"1\" class=\"dataframe\">\n",
       "  <thead>\n",
       "    <tr style=\"text-align: right;\">\n",
       "      <th></th>\n",
       "      <th>Family</th>\n",
       "      <th>Survived</th>\n",
       "    </tr>\n",
       "  </thead>\n",
       "  <tbody>\n",
       "    <tr>\n",
       "      <th>0</th>\n",
       "      <td>1</td>\n",
       "      <td>0.303538</td>\n",
       "    </tr>\n",
       "    <tr>\n",
       "      <th>1</th>\n",
       "      <td>2</td>\n",
       "      <td>0.552795</td>\n",
       "    </tr>\n",
       "    <tr>\n",
       "      <th>2</th>\n",
       "      <td>3</td>\n",
       "      <td>0.578431</td>\n",
       "    </tr>\n",
       "    <tr>\n",
       "      <th>3</th>\n",
       "      <td>4</td>\n",
       "      <td>0.724138</td>\n",
       "    </tr>\n",
       "    <tr>\n",
       "      <th>4</th>\n",
       "      <td>5</td>\n",
       "      <td>0.200000</td>\n",
       "    </tr>\n",
       "    <tr>\n",
       "      <th>5</th>\n",
       "      <td>6</td>\n",
       "      <td>0.136364</td>\n",
       "    </tr>\n",
       "    <tr>\n",
       "      <th>6</th>\n",
       "      <td>7</td>\n",
       "      <td>0.333333</td>\n",
       "    </tr>\n",
       "    <tr>\n",
       "      <th>7</th>\n",
       "      <td>8</td>\n",
       "      <td>0.000000</td>\n",
       "    </tr>\n",
       "    <tr>\n",
       "      <th>8</th>\n",
       "      <td>11</td>\n",
       "      <td>0.000000</td>\n",
       "    </tr>\n",
       "  </tbody>\n",
       "</table>\n",
       "</div>"
      ],
      "text/plain": [
       "   Family  Survived\n",
       "0       1  0.303538\n",
       "1       2  0.552795\n",
       "2       3  0.578431\n",
       "3       4  0.724138\n",
       "4       5  0.200000\n",
       "5       6  0.136364\n",
       "6       7  0.333333\n",
       "7       8  0.000000\n",
       "8      11  0.000000"
      ]
     },
     "execution_count": 17,
     "metadata": {},
     "output_type": "execute_result"
    }
   ],
   "source": [
    "# create a new feature \"Family\"\n",
    "df['Family'] = df['SibSp'] + df['Parch'] + 1\n",
    "\n",
    "# inspect the correlation between Family and Survived\n",
    "df[['Family', 'Survived']].groupby(['Family'], as_index=False).mean()"
   ]
  },
  {
   "cell_type": "code",
   "execution_count": 18,
   "id": "2adb65e9",
   "metadata": {},
   "outputs": [
    {
     "data": {
      "text/plain": [
       "1     790\n",
       "2     235\n",
       "3     159\n",
       "4      43\n",
       "6      25\n",
       "5      22\n",
       "7      16\n",
       "11     11\n",
       "8       8\n",
       "Name: Family, dtype: int64"
      ]
     },
     "execution_count": 18,
     "metadata": {},
     "output_type": "execute_result"
    }
   ],
   "source": [
    "# family size counts\n",
    "df['Family'].value_counts()"
   ]
  },
  {
   "cell_type": "code",
   "execution_count": 19,
   "id": "bdfe75b7",
   "metadata": {},
   "outputs": [
    {
     "data": {
      "text/html": [
       "<div>\n",
       "<style scoped>\n",
       "    .dataframe tbody tr th:only-of-type {\n",
       "        vertical-align: middle;\n",
       "    }\n",
       "\n",
       "    .dataframe tbody tr th {\n",
       "        vertical-align: top;\n",
       "    }\n",
       "\n",
       "    .dataframe thead th {\n",
       "        text-align: right;\n",
       "    }\n",
       "</style>\n",
       "<table border=\"1\" class=\"dataframe\">\n",
       "  <thead>\n",
       "    <tr style=\"text-align: right;\">\n",
       "      <th></th>\n",
       "      <th>Family</th>\n",
       "      <th>Survived</th>\n",
       "    </tr>\n",
       "  </thead>\n",
       "  <tbody>\n",
       "    <tr>\n",
       "      <th>0</th>\n",
       "      <td>0</td>\n",
       "      <td>0.161290</td>\n",
       "    </tr>\n",
       "    <tr>\n",
       "      <th>1</th>\n",
       "      <td>1</td>\n",
       "      <td>0.303538</td>\n",
       "    </tr>\n",
       "    <tr>\n",
       "      <th>2</th>\n",
       "      <td>2</td>\n",
       "      <td>0.552795</td>\n",
       "    </tr>\n",
       "    <tr>\n",
       "      <th>3</th>\n",
       "      <td>3</td>\n",
       "      <td>0.578431</td>\n",
       "    </tr>\n",
       "    <tr>\n",
       "      <th>4</th>\n",
       "      <td>4</td>\n",
       "      <td>0.724138</td>\n",
       "    </tr>\n",
       "  </tbody>\n",
       "</table>\n",
       "</div>"
      ],
      "text/plain": [
       "   Family  Survived\n",
       "0       0  0.161290\n",
       "1       1  0.303538\n",
       "2       2  0.552795\n",
       "3       3  0.578431\n",
       "4       4  0.724138"
      ]
     },
     "execution_count": 19,
     "metadata": {},
     "output_type": "execute_result"
    }
   ],
   "source": [
    "#analyzing data of family and survived percentage\n",
    "df.Family = df.Family.map(lambda x: 0 if x > 4 else x)\n",
    "df[['Family', 'Survived']].groupby(['Family'], as_index=False).mean()"
   ]
  },
  {
   "cell_type": "code",
   "execution_count": 20,
   "id": "d6adc270",
   "metadata": {},
   "outputs": [
    {
     "data": {
      "text/plain": [
       "1    790\n",
       "2    235\n",
       "3    159\n",
       "0     82\n",
       "4     43\n",
       "Name: Family, dtype: int64"
      ]
     },
     "execution_count": 20,
     "metadata": {},
     "output_type": "execute_result"
    }
   ],
   "source": [
    "df['Family'].value_counts()"
   ]
  },
  {
   "cell_type": "code",
   "execution_count": 21,
   "id": "b595e82d",
   "metadata": {},
   "outputs": [
    {
     "data": {
      "text/plain": [
       "3    429\n",
       "2    278\n",
       "1    210\n",
       "P     98\n",
       "S     98\n",
       "C     77\n",
       "A     42\n",
       "W     19\n",
       "7     13\n",
       "F     13\n",
       "4     11\n",
       "6      9\n",
       "L      5\n",
       "5      3\n",
       "9      2\n",
       "8      2\n",
       "Name: Ticket, dtype: int64"
      ]
     },
     "execution_count": 21,
     "metadata": {},
     "output_type": "execute_result"
    }
   ],
   "source": [
    "# check if there is any NAN\n",
    "df.Ticket.isnull().sum(axis=0)\n",
    "\n",
    "df.Ticket = df.Ticket.map(lambda x: x[0])\n",
    "\n",
    "# inspect the correlation between Ticket and Survived\n",
    "df[['Ticket', 'Survived']].groupby(['Ticket'], as_index=False).mean()\n",
    "\n",
    "# inspect the amount of people for each type of tickets\n",
    "df['Ticket'].value_counts()"
   ]
  },
  {
   "cell_type": "code",
   "execution_count": 22,
   "id": "b33b1126",
   "metadata": {},
   "outputs": [
    {
     "data": {
      "text/html": [
       "<div>\n",
       "<style scoped>\n",
       "    .dataframe tbody tr th:only-of-type {\n",
       "        vertical-align: middle;\n",
       "    }\n",
       "\n",
       "    .dataframe tbody tr th {\n",
       "        vertical-align: top;\n",
       "    }\n",
       "\n",
       "    .dataframe thead th {\n",
       "        text-align: right;\n",
       "    }\n",
       "</style>\n",
       "<table border=\"1\" class=\"dataframe\">\n",
       "  <thead>\n",
       "    <tr style=\"text-align: right;\">\n",
       "      <th></th>\n",
       "      <th>Ticket</th>\n",
       "      <th>Fare</th>\n",
       "    </tr>\n",
       "  </thead>\n",
       "  <tbody>\n",
       "    <tr>\n",
       "      <th>0</th>\n",
       "      <td>1</td>\n",
       "      <td>65.771211</td>\n",
       "    </tr>\n",
       "    <tr>\n",
       "      <th>1</th>\n",
       "      <td>2</td>\n",
       "      <td>20.235194</td>\n",
       "    </tr>\n",
       "    <tr>\n",
       "      <th>2</th>\n",
       "      <td>3</td>\n",
       "      <td>15.380682</td>\n",
       "    </tr>\n",
       "    <tr>\n",
       "      <th>3</th>\n",
       "      <td>4</td>\n",
       "      <td>16.764036</td>\n",
       "    </tr>\n",
       "    <tr>\n",
       "      <th>4</th>\n",
       "      <td>5</td>\n",
       "      <td>19.262500</td>\n",
       "    </tr>\n",
       "    <tr>\n",
       "      <th>5</th>\n",
       "      <td>6</td>\n",
       "      <td>19.153711</td>\n",
       "    </tr>\n",
       "    <tr>\n",
       "      <th>6</th>\n",
       "      <td>7</td>\n",
       "      <td>9.197438</td>\n",
       "    </tr>\n",
       "    <tr>\n",
       "      <th>7</th>\n",
       "      <td>8</td>\n",
       "      <td>8.397900</td>\n",
       "    </tr>\n",
       "    <tr>\n",
       "      <th>8</th>\n",
       "      <td>9</td>\n",
       "      <td>7.750000</td>\n",
       "    </tr>\n",
       "    <tr>\n",
       "      <th>9</th>\n",
       "      <td>A</td>\n",
       "      <td>10.189681</td>\n",
       "    </tr>\n",
       "    <tr>\n",
       "      <th>10</th>\n",
       "      <td>C</td>\n",
       "      <td>28.152273</td>\n",
       "    </tr>\n",
       "    <tr>\n",
       "      <th>11</th>\n",
       "      <td>F</td>\n",
       "      <td>24.677246</td>\n",
       "    </tr>\n",
       "    <tr>\n",
       "      <th>12</th>\n",
       "      <td>L</td>\n",
       "      <td>1.515000</td>\n",
       "    </tr>\n",
       "    <tr>\n",
       "      <th>13</th>\n",
       "      <td>P</td>\n",
       "      <td>119.698253</td>\n",
       "    </tr>\n",
       "    <tr>\n",
       "      <th>14</th>\n",
       "      <td>S</td>\n",
       "      <td>17.542900</td>\n",
       "    </tr>\n",
       "    <tr>\n",
       "      <th>15</th>\n",
       "      <td>W</td>\n",
       "      <td>31.056579</td>\n",
       "    </tr>\n",
       "  </tbody>\n",
       "</table>\n",
       "</div>"
      ],
      "text/plain": [
       "   Ticket        Fare\n",
       "0       1   65.771211\n",
       "1       2   20.235194\n",
       "2       3   15.380682\n",
       "3       4   16.764036\n",
       "4       5   19.262500\n",
       "5       6   19.153711\n",
       "6       7    9.197438\n",
       "7       8    8.397900\n",
       "8       9    7.750000\n",
       "9       A   10.189681\n",
       "10      C   28.152273\n",
       "11      F   24.677246\n",
       "12      L    1.515000\n",
       "13      P  119.698253\n",
       "14      S   17.542900\n",
       "15      W   31.056579"
      ]
     },
     "execution_count": 22,
     "metadata": {},
     "output_type": "execute_result"
    }
   ],
   "source": [
    "df[['Ticket', 'Fare']].groupby(['Ticket'], as_index=False).mean()"
   ]
  },
  {
   "cell_type": "code",
   "execution_count": 23,
   "id": "1480e626",
   "metadata": {},
   "outputs": [
    {
     "data": {
      "text/html": [
       "<div>\n",
       "<style scoped>\n",
       "    .dataframe tbody tr th:only-of-type {\n",
       "        vertical-align: middle;\n",
       "    }\n",
       "\n",
       "    .dataframe tbody tr th {\n",
       "        vertical-align: top;\n",
       "    }\n",
       "\n",
       "    .dataframe thead th {\n",
       "        text-align: right;\n",
       "    }\n",
       "</style>\n",
       "<table border=\"1\" class=\"dataframe\">\n",
       "  <thead>\n",
       "    <tr style=\"text-align: right;\">\n",
       "      <th></th>\n",
       "      <th>Ticket</th>\n",
       "      <th>Pclass</th>\n",
       "    </tr>\n",
       "  </thead>\n",
       "  <tbody>\n",
       "    <tr>\n",
       "      <th>0</th>\n",
       "      <td>1</td>\n",
       "      <td>1.147619</td>\n",
       "    </tr>\n",
       "    <tr>\n",
       "      <th>1</th>\n",
       "      <td>2</td>\n",
       "      <td>2.309353</td>\n",
       "    </tr>\n",
       "    <tr>\n",
       "      <th>2</th>\n",
       "      <td>3</td>\n",
       "      <td>2.904429</td>\n",
       "    </tr>\n",
       "    <tr>\n",
       "      <th>3</th>\n",
       "      <td>4</td>\n",
       "      <td>3.000000</td>\n",
       "    </tr>\n",
       "    <tr>\n",
       "      <th>4</th>\n",
       "      <td>5</td>\n",
       "      <td>2.333333</td>\n",
       "    </tr>\n",
       "    <tr>\n",
       "      <th>5</th>\n",
       "      <td>6</td>\n",
       "      <td>2.111111</td>\n",
       "    </tr>\n",
       "    <tr>\n",
       "      <th>6</th>\n",
       "      <td>7</td>\n",
       "      <td>3.000000</td>\n",
       "    </tr>\n",
       "    <tr>\n",
       "      <th>7</th>\n",
       "      <td>8</td>\n",
       "      <td>3.000000</td>\n",
       "    </tr>\n",
       "    <tr>\n",
       "      <th>8</th>\n",
       "      <td>9</td>\n",
       "      <td>3.000000</td>\n",
       "    </tr>\n",
       "    <tr>\n",
       "      <th>9</th>\n",
       "      <td>A</td>\n",
       "      <td>3.000000</td>\n",
       "    </tr>\n",
       "    <tr>\n",
       "      <th>10</th>\n",
       "      <td>C</td>\n",
       "      <td>2.558442</td>\n",
       "    </tr>\n",
       "    <tr>\n",
       "      <th>11</th>\n",
       "      <td>F</td>\n",
       "      <td>1.846154</td>\n",
       "    </tr>\n",
       "    <tr>\n",
       "      <th>12</th>\n",
       "      <td>L</td>\n",
       "      <td>3.000000</td>\n",
       "    </tr>\n",
       "    <tr>\n",
       "      <th>13</th>\n",
       "      <td>P</td>\n",
       "      <td>1.102041</td>\n",
       "    </tr>\n",
       "    <tr>\n",
       "      <th>14</th>\n",
       "      <td>S</td>\n",
       "      <td>2.561224</td>\n",
       "    </tr>\n",
       "    <tr>\n",
       "      <th>15</th>\n",
       "      <td>W</td>\n",
       "      <td>2.315789</td>\n",
       "    </tr>\n",
       "  </tbody>\n",
       "</table>\n",
       "</div>"
      ],
      "text/plain": [
       "   Ticket    Pclass\n",
       "0       1  1.147619\n",
       "1       2  2.309353\n",
       "2       3  2.904429\n",
       "3       4  3.000000\n",
       "4       5  2.333333\n",
       "5       6  2.111111\n",
       "6       7  3.000000\n",
       "7       8  3.000000\n",
       "8       9  3.000000\n",
       "9       A  3.000000\n",
       "10      C  2.558442\n",
       "11      F  1.846154\n",
       "12      L  3.000000\n",
       "13      P  1.102041\n",
       "14      S  2.561224\n",
       "15      W  2.315789"
      ]
     },
     "execution_count": 23,
     "metadata": {},
     "output_type": "execute_result"
    }
   ],
   "source": [
    "df[['Ticket', 'Pclass']].groupby(['Ticket'], as_index=False).mean()"
   ]
  },
  {
   "cell_type": "code",
   "execution_count": 24,
   "id": "2eb66a07",
   "metadata": {},
   "outputs": [
    {
     "data": {
      "text/plain": [
       "1"
      ]
     },
     "execution_count": 24,
     "metadata": {},
     "output_type": "execute_result"
    }
   ],
   "source": [
    "# check if there is any NAN\n",
    "df.Fare.isnull().sum(axis=0)"
   ]
  },
  {
   "cell_type": "code",
   "execution_count": 25,
   "id": "8a2d95c8",
   "metadata": {},
   "outputs": [
    {
     "data": {
      "text/plain": [
       "1043    S\n",
       "Name: Embarked, dtype: object"
      ]
     },
     "execution_count": 25,
     "metadata": {},
     "output_type": "execute_result"
    }
   ],
   "source": [
    "df.Cabin[df.Fare.isnull()]\n",
    "df.Pclass[df.Fare.isnull()]\n",
    "df.Ticket[df.Fare.isnull()]\n",
    "df.Embarked[df.Fare.isnull()]"
   ]
  },
  {
   "cell_type": "code",
   "execution_count": 26,
   "id": "11c19767",
   "metadata": {},
   "outputs": [
    {
     "data": {
      "text/html": [
       "<div>\n",
       "<style scoped>\n",
       "    .dataframe tbody tr th:only-of-type {\n",
       "        vertical-align: middle;\n",
       "    }\n",
       "\n",
       "    .dataframe tbody tr th {\n",
       "        vertical-align: top;\n",
       "    }\n",
       "\n",
       "    .dataframe thead th {\n",
       "        text-align: right;\n",
       "    }\n",
       "</style>\n",
       "<table border=\"1\" class=\"dataframe\">\n",
       "  <thead>\n",
       "    <tr style=\"text-align: right;\">\n",
       "      <th></th>\n",
       "      <th>Fare</th>\n",
       "    </tr>\n",
       "    <tr>\n",
       "      <th>Ticket</th>\n",
       "      <th></th>\n",
       "    </tr>\n",
       "  </thead>\n",
       "  <tbody>\n",
       "    <tr>\n",
       "      <th>1</th>\n",
       "      <td>0.817411</td>\n",
       "    </tr>\n",
       "    <tr>\n",
       "      <th>2</th>\n",
       "      <td>1.284139</td>\n",
       "    </tr>\n",
       "    <tr>\n",
       "      <th>3</th>\n",
       "      <td>1.351244</td>\n",
       "    </tr>\n",
       "    <tr>\n",
       "      <th>4</th>\n",
       "      <td>0.497578</td>\n",
       "    </tr>\n",
       "    <tr>\n",
       "      <th>5</th>\n",
       "      <td>0.284367</td>\n",
       "    </tr>\n",
       "    <tr>\n",
       "      <th>6</th>\n",
       "      <td>0.735873</td>\n",
       "    </tr>\n",
       "    <tr>\n",
       "      <th>7</th>\n",
       "      <td>0.080078</td>\n",
       "    </tr>\n",
       "    <tr>\n",
       "      <th>8</th>\n",
       "      <td>0.005961</td>\n",
       "    </tr>\n",
       "    <tr>\n",
       "      <th>9</th>\n",
       "      <td>0.000000</td>\n",
       "    </tr>\n",
       "    <tr>\n",
       "      <th>A</th>\n",
       "      <td>0.466846</td>\n",
       "    </tr>\n",
       "    <tr>\n",
       "      <th>C</th>\n",
       "      <td>0.736299</td>\n",
       "    </tr>\n",
       "    <tr>\n",
       "      <th>F</th>\n",
       "      <td>0.556023</td>\n",
       "    </tr>\n",
       "    <tr>\n",
       "      <th>L</th>\n",
       "      <td>2.236068</td>\n",
       "    </tr>\n",
       "    <tr>\n",
       "      <th>P</th>\n",
       "      <td>0.944596</td>\n",
       "    </tr>\n",
       "    <tr>\n",
       "      <th>S</th>\n",
       "      <td>1.024639</td>\n",
       "    </tr>\n",
       "    <tr>\n",
       "      <th>W</th>\n",
       "      <td>0.676999</td>\n",
       "    </tr>\n",
       "  </tbody>\n",
       "</table>\n",
       "</div>"
      ],
      "text/plain": [
       "            Fare\n",
       "Ticket          \n",
       "1       0.817411\n",
       "2       1.284139\n",
       "3       1.351244\n",
       "4       0.497578\n",
       "5       0.284367\n",
       "6       0.735873\n",
       "7       0.080078\n",
       "8       0.005961\n",
       "9       0.000000\n",
       "A       0.466846\n",
       "C       0.736299\n",
       "F       0.556023\n",
       "L       2.236068\n",
       "P       0.944596\n",
       "S       1.024639\n",
       "W       0.676999"
      ]
     },
     "execution_count": 26,
     "metadata": {},
     "output_type": "execute_result"
    }
   ],
   "source": [
    "# divide the standard deviation by the mean. A lower ratio means a tighter \n",
    "# distribution of Fare in each Ticket type\n",
    "df[['Ticket', 'Fare']].groupby(['Ticket']).std() /  df[['Ticket', 'Fare']].groupby(['Ticket']).mean()"
   ]
  },
  {
   "cell_type": "code",
   "execution_count": 27,
   "id": "7f320665",
   "metadata": {},
   "outputs": [
    {
     "data": {
      "text/html": [
       "<div>\n",
       "<style scoped>\n",
       "    .dataframe tbody tr th:only-of-type {\n",
       "        vertical-align: middle;\n",
       "    }\n",
       "\n",
       "    .dataframe tbody tr th {\n",
       "        vertical-align: top;\n",
       "    }\n",
       "\n",
       "    .dataframe thead th {\n",
       "        text-align: right;\n",
       "    }\n",
       "</style>\n",
       "<table border=\"1\" class=\"dataframe\">\n",
       "  <thead>\n",
       "    <tr style=\"text-align: right;\">\n",
       "      <th></th>\n",
       "      <th>Fare</th>\n",
       "    </tr>\n",
       "    <tr>\n",
       "      <th>Embarked</th>\n",
       "      <th></th>\n",
       "    </tr>\n",
       "  </thead>\n",
       "  <tbody>\n",
       "    <tr>\n",
       "      <th>C</th>\n",
       "      <td>1.350514</td>\n",
       "    </tr>\n",
       "    <tr>\n",
       "      <th>Q</th>\n",
       "      <td>1.097278</td>\n",
       "    </tr>\n",
       "    <tr>\n",
       "      <th>S</th>\n",
       "      <td>1.352954</td>\n",
       "    </tr>\n",
       "  </tbody>\n",
       "</table>\n",
       "</div>"
      ],
      "text/plain": [
       "              Fare\n",
       "Embarked          \n",
       "C         1.350514\n",
       "Q         1.097278\n",
       "S         1.352954"
      ]
     },
     "execution_count": 27,
     "metadata": {},
     "output_type": "execute_result"
    }
   ],
   "source": [
    "# divide the standard deviation by the mean. A lower ratio means a tighter \n",
    "# distribution of Fare in each Embarked\n",
    "df[['Embarked', 'Fare']].groupby(['Embarked']).std() /  df[['Embarked', 'Fare']].groupby(['Embarked']).mean()"
   ]
  },
  {
   "cell_type": "code",
   "execution_count": 28,
   "id": "acb232b2",
   "metadata": {},
   "outputs": [
    {
     "data": {
      "text/html": [
       "<div>\n",
       "<style scoped>\n",
       "    .dataframe tbody tr th:only-of-type {\n",
       "        vertical-align: middle;\n",
       "    }\n",
       "\n",
       "    .dataframe tbody tr th {\n",
       "        vertical-align: top;\n",
       "    }\n",
       "\n",
       "    .dataframe thead th {\n",
       "        text-align: right;\n",
       "    }\n",
       "</style>\n",
       "<table border=\"1\" class=\"dataframe\">\n",
       "  <thead>\n",
       "    <tr style=\"text-align: right;\">\n",
       "      <th></th>\n",
       "      <th>Survived</th>\n",
       "      <th>Fare</th>\n",
       "    </tr>\n",
       "  </thead>\n",
       "  <tbody>\n",
       "    <tr>\n",
       "      <th>0</th>\n",
       "      <td>0.0</td>\n",
       "      <td>22.117887</td>\n",
       "    </tr>\n",
       "    <tr>\n",
       "      <th>1</th>\n",
       "      <td>1.0</td>\n",
       "      <td>48.395408</td>\n",
       "    </tr>\n",
       "  </tbody>\n",
       "</table>\n",
       "</div>"
      ],
      "text/plain": [
       "   Survived       Fare\n",
       "0       0.0  22.117887\n",
       "1       1.0  48.395408"
      ]
     },
     "execution_count": 28,
     "metadata": {},
     "output_type": "execute_result"
    }
   ],
   "source": [
    "guess_Fare = df.Fare.loc[ (df.Ticket == '3') & (df.Pclass == 3) & (df.Embarked == 'S')].median()\n",
    "df.Fare.fillna(guess_Fare , inplace=True)\n",
    "\n",
    "# inspect the mean Fare values for people who died and survived\n",
    "df[['Fare', 'Survived']].groupby(['Survived'],as_index=False).mean()"
   ]
  },
  {
   "cell_type": "code",
   "execution_count": 29,
   "id": "73c7540d",
   "metadata": {},
   "outputs": [
    {
     "data": {
      "text/html": [
       "<div>\n",
       "<style scoped>\n",
       "    .dataframe tbody tr th:only-of-type {\n",
       "        vertical-align: middle;\n",
       "    }\n",
       "\n",
       "    .dataframe tbody tr th {\n",
       "        vertical-align: top;\n",
       "    }\n",
       "\n",
       "    .dataframe thead th {\n",
       "        text-align: right;\n",
       "    }\n",
       "</style>\n",
       "<table border=\"1\" class=\"dataframe\">\n",
       "  <thead>\n",
       "    <tr style=\"text-align: right;\">\n",
       "      <th></th>\n",
       "      <th>Fare-bin</th>\n",
       "      <th>Survived</th>\n",
       "    </tr>\n",
       "  </thead>\n",
       "  <tbody>\n",
       "    <tr>\n",
       "      <th>0</th>\n",
       "      <td>1</td>\n",
       "      <td>0.217877</td>\n",
       "    </tr>\n",
       "    <tr>\n",
       "      <th>1</th>\n",
       "      <td>2</td>\n",
       "      <td>0.201087</td>\n",
       "    </tr>\n",
       "    <tr>\n",
       "      <th>2</th>\n",
       "      <td>3</td>\n",
       "      <td>0.426901</td>\n",
       "    </tr>\n",
       "    <tr>\n",
       "      <th>3</th>\n",
       "      <td>4</td>\n",
       "      <td>0.443243</td>\n",
       "    </tr>\n",
       "    <tr>\n",
       "      <th>4</th>\n",
       "      <td>5</td>\n",
       "      <td>0.645349</td>\n",
       "    </tr>\n",
       "  </tbody>\n",
       "</table>\n",
       "</div>"
      ],
      "text/plain": [
       "   Fare-bin  Survived\n",
       "0         1  0.217877\n",
       "1         2  0.201087\n",
       "2         3  0.426901\n",
       "3         4  0.443243\n",
       "4         5  0.645349"
      ]
     },
     "execution_count": 29,
     "metadata": {},
     "output_type": "execute_result"
    }
   ],
   "source": [
    "# five intervals of equal amount of people\n",
    "df['Fare-bin'] = pd.qcut(df.Fare,5,labels=[1,2,3,4,5]).astype(int)\n",
    "\n",
    "# analyzing the data between fare-bin and survived\n",
    "df[['Fare-bin', 'Survived']].groupby(['Fare-bin'], as_index=False).mean()"
   ]
  },
  {
   "cell_type": "code",
   "execution_count": 30,
   "id": "f3ad23b0",
   "metadata": {},
   "outputs": [
    {
     "data": {
      "text/plain": [
       "1014"
      ]
     },
     "execution_count": 30,
     "metadata": {},
     "output_type": "execute_result"
    }
   ],
   "source": [
    "# check if there is any NAN\n",
    "df.Cabin.isnull().sum(axis=0)"
   ]
  },
  {
   "cell_type": "code",
   "execution_count": 31,
   "id": "f452eb0d",
   "metadata": {},
   "outputs": [],
   "source": [
    "df = df.drop(labels=['Cabin'], axis=1)"
   ]
  },
  {
   "cell_type": "code",
   "execution_count": 32,
   "id": "c982b7b8",
   "metadata": {},
   "outputs": [
    {
     "data": {
      "text/plain": [
       "2"
      ]
     },
     "execution_count": 32,
     "metadata": {},
     "output_type": "execute_result"
    }
   ],
   "source": [
    "# check if there is any NAN\n",
    "df.Embarked.isnull().sum(axis=0)"
   ]
  },
  {
   "cell_type": "code",
   "execution_count": 33,
   "id": "85771399",
   "metadata": {},
   "outputs": [],
   "source": [
    "df.Embarked.fillna('S' , inplace=True )"
   ]
  },
  {
   "cell_type": "code",
   "execution_count": 34,
   "id": "972feac8",
   "metadata": {},
   "outputs": [
    {
     "data": {
      "text/html": [
       "<div>\n",
       "<style scoped>\n",
       "    .dataframe tbody tr th:only-of-type {\n",
       "        vertical-align: middle;\n",
       "    }\n",
       "\n",
       "    .dataframe tbody tr th {\n",
       "        vertical-align: top;\n",
       "    }\n",
       "\n",
       "    .dataframe thead th {\n",
       "        text-align: right;\n",
       "    }\n",
       "</style>\n",
       "<table border=\"1\" class=\"dataframe\">\n",
       "  <thead>\n",
       "    <tr style=\"text-align: right;\">\n",
       "      <th></th>\n",
       "      <th>Embarked</th>\n",
       "      <th>Survived</th>\n",
       "      <th>Pclass</th>\n",
       "      <th>Fare</th>\n",
       "      <th>Age</th>\n",
       "      <th>Sex</th>\n",
       "    </tr>\n",
       "  </thead>\n",
       "  <tbody>\n",
       "    <tr>\n",
       "      <th>0</th>\n",
       "      <td>C</td>\n",
       "      <td>0.553571</td>\n",
       "      <td>1.851852</td>\n",
       "      <td>62.336267</td>\n",
       "      <td>32.332170</td>\n",
       "      <td>0.418519</td>\n",
       "    </tr>\n",
       "    <tr>\n",
       "      <th>1</th>\n",
       "      <td>Q</td>\n",
       "      <td>0.389610</td>\n",
       "      <td>2.894309</td>\n",
       "      <td>12.409012</td>\n",
       "      <td>28.630000</td>\n",
       "      <td>0.487805</td>\n",
       "    </tr>\n",
       "    <tr>\n",
       "      <th>2</th>\n",
       "      <td>S</td>\n",
       "      <td>0.339009</td>\n",
       "      <td>2.344978</td>\n",
       "      <td>27.512485</td>\n",
       "      <td>29.298151</td>\n",
       "      <td>0.319869</td>\n",
       "    </tr>\n",
       "  </tbody>\n",
       "</table>\n",
       "</div>"
      ],
      "text/plain": [
       "  Embarked  Survived    Pclass       Fare        Age       Sex\n",
       "0        C  0.553571  1.851852  62.336267  32.332170  0.418519\n",
       "1        Q  0.389610  2.894309  12.409012  28.630000  0.487805\n",
       "2        S  0.339009  2.344978  27.512485  29.298151  0.319869"
      ]
     },
     "execution_count": 34,
     "metadata": {},
     "output_type": "execute_result"
    }
   ],
   "source": [
    "df[['Embarked', 'Survived','Pclass','Fare', 'Age', 'Sex']].groupby(['Embarked'], as_index=False).mean()"
   ]
  },
  {
   "cell_type": "code",
   "execution_count": 35,
   "id": "f5147c14",
   "metadata": {},
   "outputs": [],
   "source": [
    "df = df.drop(labels='Embarked', axis=1)"
   ]
  },
  {
   "cell_type": "code",
   "execution_count": 36,
   "id": "61887d60",
   "metadata": {},
   "outputs": [
    {
     "data": {
      "text/html": [
       "<div>\n",
       "<style scoped>\n",
       "    .dataframe tbody tr th:only-of-type {\n",
       "        vertical-align: middle;\n",
       "    }\n",
       "\n",
       "    .dataframe tbody tr th {\n",
       "        vertical-align: top;\n",
       "    }\n",
       "\n",
       "    .dataframe thead th {\n",
       "        text-align: right;\n",
       "    }\n",
       "</style>\n",
       "<table border=\"1\" class=\"dataframe\">\n",
       "  <thead>\n",
       "    <tr style=\"text-align: right;\">\n",
       "      <th></th>\n",
       "      <th>Age</th>\n",
       "    </tr>\n",
       "    <tr>\n",
       "      <th>Fare-bin</th>\n",
       "      <th></th>\n",
       "    </tr>\n",
       "  </thead>\n",
       "  <tbody>\n",
       "    <tr>\n",
       "      <th>1</th>\n",
       "      <td>27.848315</td>\n",
       "    </tr>\n",
       "    <tr>\n",
       "      <th>2</th>\n",
       "      <td>27.898241</td>\n",
       "    </tr>\n",
       "    <tr>\n",
       "      <th>3</th>\n",
       "      <td>26.144009</td>\n",
       "    </tr>\n",
       "    <tr>\n",
       "      <th>4</th>\n",
       "      <td>30.728604</td>\n",
       "    </tr>\n",
       "    <tr>\n",
       "      <th>5</th>\n",
       "      <td>35.877913</td>\n",
       "    </tr>\n",
       "  </tbody>\n",
       "</table>\n",
       "</div>"
      ],
      "text/plain": [
       "                Age\n",
       "Fare-bin           \n",
       "1         27.848315\n",
       "2         27.898241\n",
       "3         26.144009\n",
       "4         30.728604\n",
       "5         35.877913"
      ]
     },
     "execution_count": 36,
     "metadata": {},
     "output_type": "execute_result"
    }
   ],
   "source": [
    "df[['Fare-bin', 'Age']].groupby(['Fare-bin']).mean()"
   ]
  },
  {
   "cell_type": "code",
   "execution_count": 37,
   "id": "0f6c4b09",
   "metadata": {},
   "outputs": [
    {
     "name": "stderr",
     "output_type": "stream",
     "text": [
      "C:\\Users\\jmval\\AppData\\Local\\Temp\\ipykernel_1472\\2170334250.py:12: SettingWithCopyWarning: \n",
      "A value is trying to be set on a copy of a slice from a DataFrame\n",
      "\n",
      "See the caveats in the documentation: https://pandas.pydata.org/pandas-docs/stable/user_guide/indexing.html#returning-a-view-versus-a-copy\n",
      "  df.Age.loc[df.Age.isnull()] = y_pred\n"
     ]
    },
    {
     "data": {
      "text/plain": [
       "0"
      ]
     },
     "execution_count": 37,
     "metadata": {},
     "output_type": "execute_result"
    }
   ],
   "source": [
    "#Preparing the data\n",
    "# Taking care of NaN\n",
    "df_sub = df[['Age','Master','Miss','Mr','Mrs','Others','Fare-bin','SibSp']]\n",
    "\n",
    "X_train  = df_sub.dropna().drop('Age', axis=1)\n",
    "y_train  = df['Age'].dropna()\n",
    "X_test = df_sub.loc[np.isnan(df.Age)].drop('Age', axis=1)\n",
    "\n",
    "regressor = RandomForestRegressor(n_estimators = 300)\n",
    "regressor.fit(X_train, y_train)\n",
    "y_pred = np.round(regressor.predict(X_test),1)\n",
    "df.Age.loc[df.Age.isnull()] = y_pred\n",
    "\n",
    "df.Age.isnull().sum(axis=0) "
   ]
  },
  {
   "cell_type": "code",
   "execution_count": 38,
   "id": "bfc97452",
   "metadata": {},
   "outputs": [
    {
     "data": {
      "text/html": [
       "<div>\n",
       "<style scoped>\n",
       "    .dataframe tbody tr th:only-of-type {\n",
       "        vertical-align: middle;\n",
       "    }\n",
       "\n",
       "    .dataframe tbody tr th {\n",
       "        vertical-align: top;\n",
       "    }\n",
       "\n",
       "    .dataframe thead th {\n",
       "        text-align: right;\n",
       "    }\n",
       "</style>\n",
       "<table border=\"1\" class=\"dataframe\">\n",
       "  <thead>\n",
       "    <tr style=\"text-align: right;\">\n",
       "      <th></th>\n",
       "      <th>Age-bin</th>\n",
       "      <th>Survived</th>\n",
       "    </tr>\n",
       "  </thead>\n",
       "  <tbody>\n",
       "    <tr>\n",
       "      <th>0</th>\n",
       "      <td>1</td>\n",
       "      <td>0.675000</td>\n",
       "    </tr>\n",
       "    <tr>\n",
       "      <th>1</th>\n",
       "      <td>2</td>\n",
       "      <td>0.452381</td>\n",
       "    </tr>\n",
       "    <tr>\n",
       "      <th>2</th>\n",
       "      <td>3</td>\n",
       "      <td>0.402597</td>\n",
       "    </tr>\n",
       "    <tr>\n",
       "      <th>3</th>\n",
       "      <td>4</td>\n",
       "      <td>0.315789</td>\n",
       "    </tr>\n",
       "    <tr>\n",
       "      <th>4</th>\n",
       "      <td>5</td>\n",
       "      <td>0.427083</td>\n",
       "    </tr>\n",
       "    <tr>\n",
       "      <th>5</th>\n",
       "      <td>6</td>\n",
       "      <td>0.375000</td>\n",
       "    </tr>\n",
       "    <tr>\n",
       "      <th>6</th>\n",
       "      <td>7</td>\n",
       "      <td>0.125000</td>\n",
       "    </tr>\n",
       "  </tbody>\n",
       "</table>\n",
       "</div>"
      ],
      "text/plain": [
       "   Age-bin  Survived\n",
       "0        1  0.675000\n",
       "1        2  0.452381\n",
       "2        3  0.402597\n",
       "3        4  0.315789\n",
       "4        5  0.427083\n",
       "5        6  0.375000\n",
       "6        7  0.125000"
      ]
     },
     "execution_count": 38,
     "metadata": {},
     "output_type": "execute_result"
    }
   ],
   "source": [
    "bins = [ 0, 4, 12, 18, 30, 50, 65, 100] # This is somewhat arbitrary\n",
    "age_index = (1,2,3,4,5,6,7) #('baby','child','teenager','young','mid-age','over-50','senior')\n",
    "df['Age-bin'] = pd.cut(df.Age, bins, labels=age_index).astype(int)\n",
    "\n",
    "df[['Age-bin', 'Survived']].groupby(['Age-bin'],as_index=False).mean()"
   ]
  },
  {
   "cell_type": "code",
   "execution_count": 39,
   "id": "54270e09",
   "metadata": {},
   "outputs": [
    {
     "data": {
      "text/html": [
       "<div>\n",
       "<style scoped>\n",
       "    .dataframe tbody tr th:only-of-type {\n",
       "        vertical-align: middle;\n",
       "    }\n",
       "\n",
       "    .dataframe tbody tr th {\n",
       "        vertical-align: top;\n",
       "    }\n",
       "\n",
       "    .dataframe thead th {\n",
       "        text-align: right;\n",
       "    }\n",
       "</style>\n",
       "<table border=\"1\" class=\"dataframe\">\n",
       "  <thead>\n",
       "    <tr style=\"text-align: right;\">\n",
       "      <th></th>\n",
       "      <th>Ticket</th>\n",
       "      <th>Survived</th>\n",
       "    </tr>\n",
       "  </thead>\n",
       "  <tbody>\n",
       "    <tr>\n",
       "      <th>0</th>\n",
       "      <td>1</td>\n",
       "      <td>0.630137</td>\n",
       "    </tr>\n",
       "    <tr>\n",
       "      <th>1</th>\n",
       "      <td>2</td>\n",
       "      <td>0.464481</td>\n",
       "    </tr>\n",
       "    <tr>\n",
       "      <th>2</th>\n",
       "      <td>3</td>\n",
       "      <td>0.239203</td>\n",
       "    </tr>\n",
       "    <tr>\n",
       "      <th>3</th>\n",
       "      <td>4</td>\n",
       "      <td>0.166667</td>\n",
       "    </tr>\n",
       "    <tr>\n",
       "      <th>4</th>\n",
       "      <td>C</td>\n",
       "      <td>0.340426</td>\n",
       "    </tr>\n",
       "    <tr>\n",
       "      <th>5</th>\n",
       "      <td>P</td>\n",
       "      <td>0.646154</td>\n",
       "    </tr>\n",
       "    <tr>\n",
       "      <th>6</th>\n",
       "      <td>S</td>\n",
       "      <td>0.323077</td>\n",
       "    </tr>\n",
       "  </tbody>\n",
       "</table>\n",
       "</div>"
      ],
      "text/plain": [
       "  Ticket  Survived\n",
       "0      1  0.630137\n",
       "1      2  0.464481\n",
       "2      3  0.239203\n",
       "3      4  0.166667\n",
       "4      C  0.340426\n",
       "5      P  0.646154\n",
       "6      S  0.323077"
      ]
     },
     "execution_count": 39,
     "metadata": {},
     "output_type": "execute_result"
    }
   ],
   "source": [
    "df[['Ticket', 'Survived']].groupby(['Ticket'], as_index=False).mean()\n",
    "df['Ticket'].value_counts()\n",
    "df['Ticket'] = df['Ticket'].replace(['A','W','F','L','5','6','7','8','9'], '4')\n",
    "\n",
    "# check the correlation again\n",
    "df[['Ticket', 'Survived']].groupby(['Ticket'], as_index=False).mean()"
   ]
  },
  {
   "cell_type": "code",
   "execution_count": 40,
   "id": "8fa6e2a1",
   "metadata": {},
   "outputs": [],
   "source": [
    "# dummy encoding\n",
    "df = pd.get_dummies(df,columns=['Ticket'])"
   ]
  },
  {
   "cell_type": "code",
   "execution_count": 41,
   "id": "e7a78b73",
   "metadata": {},
   "outputs": [],
   "source": [
    "# splitting dataset into train and test\n",
    "df = df.drop(labels=['SibSp','Parch','Age','Fare','Title'], axis=1)\n",
    "y_train = df[0:891]['Survived'].values\n",
    "X_train = df[0:891].drop(['Survived','PassengerId'], axis=1).values\n",
    "X_test  = df[891:].drop(['Survived','PassengerId'], axis=1).values"
   ]
  },
  {
   "cell_type": "code",
   "execution_count": 42,
   "id": "8e146288",
   "metadata": {},
   "outputs": [],
   "source": [
    "# define the keras model\n",
    "model = Sequential()\n",
    "model.add(Dense(256, input_shape=(X_train.shape[1],), activation='sigmoid'))\n",
    "model.add(Dense(12, input_shape=(8,), activation='relu')) #we use input shape as (8,) because there are 8 features that we need\n",
    "model.add(Dense(8, activation='relu')) #this is the hidden layer\n",
    "model.add(Dense(1, activation='sigmoid')) #this is the output layer (1 output for classification in this case)\n"
   ]
  },
  {
   "cell_type": "code",
   "execution_count": 43,
   "id": "bd08a6f5",
   "metadata": {},
   "outputs": [],
   "source": [
    "# compile the keras model\n",
    "model.compile(loss='binary_crossentropy', optimizer='adam', metrics=['accuracy'])"
   ]
  },
  {
   "cell_type": "code",
   "execution_count": 44,
   "id": "2e6df646",
   "metadata": {},
   "outputs": [
    {
     "name": "stdout",
     "output_type": "stream",
     "text": [
      "Epoch 1/150\n",
      "90/90 [==============================] - 1s 1ms/step - loss: 0.6092 - accuracy: 0.6869\n",
      "Epoch 2/150\n",
      "90/90 [==============================] - 0s 1ms/step - loss: 0.5063 - accuracy: 0.7666\n",
      "Epoch 3/150\n",
      "90/90 [==============================] - 0s 2ms/step - loss: 0.4577 - accuracy: 0.7991\n",
      "Epoch 4/150\n",
      "90/90 [==============================] - 0s 1ms/step - loss: 0.4426 - accuracy: 0.8036\n",
      "Epoch 5/150\n",
      "90/90 [==============================] - 0s 1ms/step - loss: 0.4383 - accuracy: 0.8081\n",
      "Epoch 6/150\n",
      "90/90 [==============================] - 0s 1ms/step - loss: 0.4276 - accuracy: 0.8193\n",
      "Epoch 7/150\n",
      "90/90 [==============================] - 0s 1ms/step - loss: 0.4330 - accuracy: 0.8159\n",
      "Epoch 8/150\n",
      "90/90 [==============================] - 0s 1ms/step - loss: 0.4201 - accuracy: 0.8249\n",
      "Epoch 9/150\n",
      "90/90 [==============================] - 0s 1ms/step - loss: 0.4134 - accuracy: 0.8316\n",
      "Epoch 10/150\n",
      "90/90 [==============================] - 0s 1ms/step - loss: 0.4120 - accuracy: 0.8283\n",
      "Epoch 11/150\n",
      "90/90 [==============================] - 0s 1ms/step - loss: 0.4118 - accuracy: 0.8238\n",
      "Epoch 12/150\n",
      "90/90 [==============================] - 0s 1ms/step - loss: 0.4145 - accuracy: 0.8272\n",
      "Epoch 13/150\n",
      "90/90 [==============================] - 0s 1ms/step - loss: 0.4083 - accuracy: 0.8283\n",
      "Epoch 14/150\n",
      "90/90 [==============================] - 0s 1ms/step - loss: 0.4076 - accuracy: 0.8272\n",
      "Epoch 15/150\n",
      "90/90 [==============================] - 0s 1ms/step - loss: 0.4103 - accuracy: 0.8238\n",
      "Epoch 16/150\n",
      "90/90 [==============================] - 0s 1ms/step - loss: 0.4195 - accuracy: 0.8137\n",
      "Epoch 17/150\n",
      "90/90 [==============================] - 0s 1ms/step - loss: 0.4116 - accuracy: 0.8249\n",
      "Epoch 18/150\n",
      "90/90 [==============================] - 0s 989us/step - loss: 0.4167 - accuracy: 0.8238\n",
      "Epoch 19/150\n",
      "90/90 [==============================] - 0s 1ms/step - loss: 0.4027 - accuracy: 0.8339\n",
      "Epoch 20/150\n",
      "90/90 [==============================] - 0s 1ms/step - loss: 0.4023 - accuracy: 0.8272\n",
      "Epoch 21/150\n",
      "90/90 [==============================] - 0s 1ms/step - loss: 0.4047 - accuracy: 0.8272\n",
      "Epoch 22/150\n",
      "90/90 [==============================] - 0s 1ms/step - loss: 0.4075 - accuracy: 0.8283\n",
      "Epoch 23/150\n",
      "90/90 [==============================] - 0s 1ms/step - loss: 0.4007 - accuracy: 0.8249\n",
      "Epoch 24/150\n",
      "90/90 [==============================] - 0s 1ms/step - loss: 0.3984 - accuracy: 0.8305\n",
      "Epoch 25/150\n",
      "90/90 [==============================] - 0s 1ms/step - loss: 0.4027 - accuracy: 0.8316\n",
      "Epoch 26/150\n",
      "90/90 [==============================] - 0s 1ms/step - loss: 0.4043 - accuracy: 0.8316\n",
      "Epoch 27/150\n",
      "90/90 [==============================] - 0s 1ms/step - loss: 0.4052 - accuracy: 0.8272\n",
      "Epoch 28/150\n",
      "90/90 [==============================] - 0s 1ms/step - loss: 0.3973 - accuracy: 0.8328\n",
      "Epoch 29/150\n",
      "90/90 [==============================] - 0s 1ms/step - loss: 0.4019 - accuracy: 0.8193\n",
      "Epoch 30/150\n",
      "90/90 [==============================] - 0s 1ms/step - loss: 0.3981 - accuracy: 0.8350\n",
      "Epoch 31/150\n",
      "90/90 [==============================] - 0s 1ms/step - loss: 0.3991 - accuracy: 0.8260\n",
      "Epoch 32/150\n",
      "90/90 [==============================] - 0s 1ms/step - loss: 0.3939 - accuracy: 0.8350\n",
      "Epoch 33/150\n",
      "90/90 [==============================] - 0s 1ms/step - loss: 0.3940 - accuracy: 0.8316\n",
      "Epoch 34/150\n",
      "90/90 [==============================] - 0s 989us/step - loss: 0.3978 - accuracy: 0.8316\n",
      "Epoch 35/150\n",
      "90/90 [==============================] - 0s 978us/step - loss: 0.3976 - accuracy: 0.8283\n",
      "Epoch 36/150\n",
      "90/90 [==============================] - 0s 989us/step - loss: 0.3967 - accuracy: 0.8283\n",
      "Epoch 37/150\n",
      "90/90 [==============================] - 0s 978us/step - loss: 0.3920 - accuracy: 0.8260\n",
      "Epoch 38/150\n",
      "90/90 [==============================] - 0s 978us/step - loss: 0.3966 - accuracy: 0.8316\n",
      "Epoch 39/150\n",
      "90/90 [==============================] - 0s 1ms/step - loss: 0.3935 - accuracy: 0.8339\n",
      "Epoch 40/150\n",
      "90/90 [==============================] - 0s 1ms/step - loss: 0.3932 - accuracy: 0.8384\n",
      "Epoch 41/150\n",
      "90/90 [==============================] - 0s 1ms/step - loss: 0.3930 - accuracy: 0.8339\n",
      "Epoch 42/150\n",
      "90/90 [==============================] - 0s 978us/step - loss: 0.3950 - accuracy: 0.8283\n",
      "Epoch 43/150\n",
      "90/90 [==============================] - 0s 989us/step - loss: 0.3901 - accuracy: 0.8395\n",
      "Epoch 44/150\n",
      "90/90 [==============================] - 0s 989us/step - loss: 0.3925 - accuracy: 0.8339\n",
      "Epoch 45/150\n",
      "90/90 [==============================] - 0s 967us/step - loss: 0.3899 - accuracy: 0.8294\n",
      "Epoch 46/150\n",
      "90/90 [==============================] - 0s 1ms/step - loss: 0.3874 - accuracy: 0.8260\n",
      "Epoch 47/150\n",
      "90/90 [==============================] - 0s 1ms/step - loss: 0.3985 - accuracy: 0.8215\n",
      "Epoch 48/150\n",
      "90/90 [==============================] - 0s 1ms/step - loss: 0.3897 - accuracy: 0.8305\n",
      "Epoch 49/150\n",
      "90/90 [==============================] - 0s 1ms/step - loss: 0.3883 - accuracy: 0.8361\n",
      "Epoch 50/150\n",
      "90/90 [==============================] - 0s 1ms/step - loss: 0.3901 - accuracy: 0.8283\n",
      "Epoch 51/150\n",
      "90/90 [==============================] - 0s 1ms/step - loss: 0.3889 - accuracy: 0.8350\n",
      "Epoch 52/150\n",
      "90/90 [==============================] - 0s 1ms/step - loss: 0.3878 - accuracy: 0.8373\n",
      "Epoch 53/150\n",
      "90/90 [==============================] - 0s 1ms/step - loss: 0.3892 - accuracy: 0.8350\n",
      "Epoch 54/150\n",
      "90/90 [==============================] - 0s 989us/step - loss: 0.3868 - accuracy: 0.8272\n",
      "Epoch 55/150\n",
      "90/90 [==============================] - 0s 989us/step - loss: 0.3835 - accuracy: 0.8361\n",
      "Epoch 56/150\n",
      "90/90 [==============================] - 0s 1ms/step - loss: 0.3875 - accuracy: 0.8283\n",
      "Epoch 57/150\n",
      "90/90 [==============================] - 0s 1ms/step - loss: 0.3839 - accuracy: 0.8361\n",
      "Epoch 58/150\n",
      "90/90 [==============================] - 0s 1ms/step - loss: 0.3826 - accuracy: 0.8418\n",
      "Epoch 59/150\n",
      "90/90 [==============================] - 0s 1ms/step - loss: 0.3827 - accuracy: 0.8429\n",
      "Epoch 60/150\n",
      "90/90 [==============================] - 0s 1ms/step - loss: 0.3806 - accuracy: 0.8294\n",
      "Epoch 61/150\n",
      "90/90 [==============================] - 0s 1ms/step - loss: 0.3888 - accuracy: 0.8215\n",
      "Epoch 62/150\n",
      "90/90 [==============================] - 0s 1ms/step - loss: 0.3894 - accuracy: 0.8305\n",
      "Epoch 63/150\n",
      "90/90 [==============================] - 0s 1ms/step - loss: 0.3839 - accuracy: 0.8384\n",
      "Epoch 64/150\n",
      "90/90 [==============================] - 0s 1ms/step - loss: 0.3817 - accuracy: 0.8373\n",
      "Epoch 65/150\n",
      "90/90 [==============================] - 0s 1ms/step - loss: 0.3797 - accuracy: 0.8373\n",
      "Epoch 66/150\n",
      "90/90 [==============================] - 0s 1ms/step - loss: 0.3795 - accuracy: 0.8418\n",
      "Epoch 67/150\n",
      "90/90 [==============================] - 0s 1ms/step - loss: 0.3807 - accuracy: 0.8384\n",
      "Epoch 68/150\n",
      "90/90 [==============================] - 0s 1ms/step - loss: 0.3844 - accuracy: 0.8395\n",
      "Epoch 69/150\n",
      "90/90 [==============================] - 0s 1ms/step - loss: 0.3834 - accuracy: 0.8283\n",
      "Epoch 70/150\n",
      "90/90 [==============================] - 0s 1ms/step - loss: 0.3804 - accuracy: 0.8373\n",
      "Epoch 71/150\n",
      "90/90 [==============================] - 0s 1ms/step - loss: 0.3773 - accuracy: 0.8373\n",
      "Epoch 72/150\n",
      "90/90 [==============================] - 0s 1ms/step - loss: 0.3918 - accuracy: 0.8249\n",
      "Epoch 73/150\n",
      "90/90 [==============================] - 0s 1ms/step - loss: 0.3872 - accuracy: 0.8215\n",
      "Epoch 74/150\n",
      "90/90 [==============================] - 0s 1ms/step - loss: 0.3802 - accuracy: 0.8350\n",
      "Epoch 75/150\n",
      "90/90 [==============================] - 0s 1ms/step - loss: 0.3829 - accuracy: 0.8373\n",
      "Epoch 76/150\n",
      "90/90 [==============================] - 0s 978us/step - loss: 0.3776 - accuracy: 0.8384\n",
      "Epoch 77/150\n",
      "90/90 [==============================] - 0s 978us/step - loss: 0.3872 - accuracy: 0.8395\n",
      "Epoch 78/150\n",
      "90/90 [==============================] - 0s 978us/step - loss: 0.3776 - accuracy: 0.8361\n",
      "Epoch 79/150\n",
      "90/90 [==============================] - 0s 978us/step - loss: 0.3754 - accuracy: 0.8373\n",
      "Epoch 80/150\n",
      "90/90 [==============================] - 0s 1ms/step - loss: 0.3749 - accuracy: 0.8361\n",
      "Epoch 81/150\n",
      "90/90 [==============================] - 0s 1ms/step - loss: 0.3756 - accuracy: 0.8406\n",
      "Epoch 82/150\n"
     ]
    },
    {
     "name": "stdout",
     "output_type": "stream",
     "text": [
      "90/90 [==============================] - 0s 1ms/step - loss: 0.3785 - accuracy: 0.8361\n",
      "Epoch 83/150\n",
      "90/90 [==============================] - 0s 989us/step - loss: 0.3739 - accuracy: 0.8462\n",
      "Epoch 84/150\n",
      "90/90 [==============================] - 0s 989us/step - loss: 0.3773 - accuracy: 0.8406\n",
      "Epoch 85/150\n",
      "90/90 [==============================] - 0s 1ms/step - loss: 0.3772 - accuracy: 0.8395\n",
      "Epoch 86/150\n",
      "90/90 [==============================] - 0s 989us/step - loss: 0.3737 - accuracy: 0.8361\n",
      "Epoch 87/150\n",
      "90/90 [==============================] - 0s 1ms/step - loss: 0.3745 - accuracy: 0.8373\n",
      "Epoch 88/150\n",
      "90/90 [==============================] - 0s 1ms/step - loss: 0.3720 - accuracy: 0.8462\n",
      "Epoch 89/150\n",
      "90/90 [==============================] - 0s 989us/step - loss: 0.3740 - accuracy: 0.8361\n",
      "Epoch 90/150\n",
      "90/90 [==============================] - 0s 989us/step - loss: 0.3758 - accuracy: 0.8328\n",
      "Epoch 91/150\n",
      "90/90 [==============================] - 0s 1ms/step - loss: 0.3723 - accuracy: 0.8429\n",
      "Epoch 92/150\n",
      "90/90 [==============================] - 0s 978us/step - loss: 0.3778 - accuracy: 0.8350\n",
      "Epoch 93/150\n",
      "90/90 [==============================] - 0s 978us/step - loss: 0.3736 - accuracy: 0.8451\n",
      "Epoch 94/150\n",
      "90/90 [==============================] - 0s 1ms/step - loss: 0.3762 - accuracy: 0.8339\n",
      "Epoch 95/150\n",
      "90/90 [==============================] - 0s 1ms/step - loss: 0.3715 - accuracy: 0.8418\n",
      "Epoch 96/150\n",
      "90/90 [==============================] - 0s 1ms/step - loss: 0.3715 - accuracy: 0.8429\n",
      "Epoch 97/150\n",
      "90/90 [==============================] - 0s 1ms/step - loss: 0.3705 - accuracy: 0.8339\n",
      "Epoch 98/150\n",
      "90/90 [==============================] - 0s 1ms/step - loss: 0.3724 - accuracy: 0.8406\n",
      "Epoch 99/150\n",
      "90/90 [==============================] - 0s 1ms/step - loss: 0.3762 - accuracy: 0.8418\n",
      "Epoch 100/150\n",
      "90/90 [==============================] - 0s 1ms/step - loss: 0.3693 - accuracy: 0.8384\n",
      "Epoch 101/150\n",
      "90/90 [==============================] - 0s 1ms/step - loss: 0.3679 - accuracy: 0.8350\n",
      "Epoch 102/150\n",
      "90/90 [==============================] - 0s 1ms/step - loss: 0.3708 - accuracy: 0.8418\n",
      "Epoch 103/150\n",
      "90/90 [==============================] - 0s 1ms/step - loss: 0.3697 - accuracy: 0.8406\n",
      "Epoch 104/150\n",
      "90/90 [==============================] - 0s 1ms/step - loss: 0.3702 - accuracy: 0.8395\n",
      "Epoch 105/150\n",
      "90/90 [==============================] - 0s 1ms/step - loss: 0.3672 - accuracy: 0.8429\n",
      "Epoch 106/150\n",
      "90/90 [==============================] - 0s 1ms/step - loss: 0.3655 - accuracy: 0.8384\n",
      "Epoch 107/150\n",
      "90/90 [==============================] - 0s 1ms/step - loss: 0.3670 - accuracy: 0.8395\n",
      "Epoch 108/150\n",
      "90/90 [==============================] - 0s 1ms/step - loss: 0.3650 - accuracy: 0.8451\n",
      "Epoch 109/150\n",
      "90/90 [==============================] - 0s 1ms/step - loss: 0.3681 - accuracy: 0.8373\n",
      "Epoch 110/150\n",
      "90/90 [==============================] - 0s 1ms/step - loss: 0.3701 - accuracy: 0.8418\n",
      "Epoch 111/150\n",
      "90/90 [==============================] - 0s 1ms/step - loss: 0.3762 - accuracy: 0.8305\n",
      "Epoch 112/150\n",
      "90/90 [==============================] - 0s 1ms/step - loss: 0.3699 - accuracy: 0.8339\n",
      "Epoch 113/150\n",
      "90/90 [==============================] - 0s 1ms/step - loss: 0.3688 - accuracy: 0.8418\n",
      "Epoch 114/150\n",
      "90/90 [==============================] - 0s 1ms/step - loss: 0.3646 - accuracy: 0.8507\n",
      "Epoch 115/150\n",
      "90/90 [==============================] - 0s 1ms/step - loss: 0.3661 - accuracy: 0.8451\n",
      "Epoch 116/150\n",
      "90/90 [==============================] - 0s 1ms/step - loss: 0.3784 - accuracy: 0.8384\n",
      "Epoch 117/150\n",
      "90/90 [==============================] - 0s 1ms/step - loss: 0.3734 - accuracy: 0.8294\n",
      "Epoch 118/150\n",
      "90/90 [==============================] - 0s 1ms/step - loss: 0.3675 - accuracy: 0.8451\n",
      "Epoch 119/150\n",
      "90/90 [==============================] - 0s 1ms/step - loss: 0.3623 - accuracy: 0.8395\n",
      "Epoch 120/150\n",
      "90/90 [==============================] - 0s 1ms/step - loss: 0.3747 - accuracy: 0.8305\n",
      "Epoch 121/150\n",
      "90/90 [==============================] - 0s 1ms/step - loss: 0.3643 - accuracy: 0.8440\n",
      "Epoch 122/150\n",
      "90/90 [==============================] - 0s 1ms/step - loss: 0.3665 - accuracy: 0.8418\n",
      "Epoch 123/150\n",
      "90/90 [==============================] - 0s 1ms/step - loss: 0.3620 - accuracy: 0.8485\n",
      "Epoch 124/150\n",
      "90/90 [==============================] - 0s 1ms/step - loss: 0.3639 - accuracy: 0.8384\n",
      "Epoch 125/150\n",
      "90/90 [==============================] - 0s 1ms/step - loss: 0.3703 - accuracy: 0.8350\n",
      "Epoch 126/150\n",
      "90/90 [==============================] - 0s 1ms/step - loss: 0.3674 - accuracy: 0.8406\n",
      "Epoch 127/150\n",
      "90/90 [==============================] - 0s 1ms/step - loss: 0.3652 - accuracy: 0.8429\n",
      "Epoch 128/150\n",
      "90/90 [==============================] - 0s 1ms/step - loss: 0.3641 - accuracy: 0.8451\n",
      "Epoch 129/150\n",
      "90/90 [==============================] - 0s 1ms/step - loss: 0.3642 - accuracy: 0.8451\n",
      "Epoch 130/150\n",
      "90/90 [==============================] - 0s 1ms/step - loss: 0.3666 - accuracy: 0.8429\n",
      "Epoch 131/150\n",
      "90/90 [==============================] - 0s 1ms/step - loss: 0.3693 - accuracy: 0.8350\n",
      "Epoch 132/150\n",
      "90/90 [==============================] - 0s 1ms/step - loss: 0.3733 - accuracy: 0.8316\n",
      "Epoch 133/150\n",
      "90/90 [==============================] - 0s 1ms/step - loss: 0.3600 - accuracy: 0.8462\n",
      "Epoch 134/150\n",
      "90/90 [==============================] - 0s 1ms/step - loss: 0.3648 - accuracy: 0.8395\n",
      "Epoch 135/150\n",
      "90/90 [==============================] - 0s 1ms/step - loss: 0.3612 - accuracy: 0.8440\n",
      "Epoch 136/150\n",
      "90/90 [==============================] - 0s 1ms/step - loss: 0.3608 - accuracy: 0.8485\n",
      "Epoch 137/150\n",
      "90/90 [==============================] - 0s 1ms/step - loss: 0.3615 - accuracy: 0.8451\n",
      "Epoch 138/150\n",
      "90/90 [==============================] - 0s 1ms/step - loss: 0.3657 - accuracy: 0.8406\n",
      "Epoch 139/150\n",
      "90/90 [==============================] - 0s 1ms/step - loss: 0.3611 - accuracy: 0.8440\n",
      "Epoch 140/150\n",
      "90/90 [==============================] - 0s 1ms/step - loss: 0.3699 - accuracy: 0.8373\n",
      "Epoch 141/150\n",
      "90/90 [==============================] - 0s 1ms/step - loss: 0.3632 - accuracy: 0.8384\n",
      "Epoch 142/150\n",
      "90/90 [==============================] - 0s 1ms/step - loss: 0.3715 - accuracy: 0.8462\n",
      "Epoch 143/150\n",
      "90/90 [==============================] - 0s 1ms/step - loss: 0.3610 - accuracy: 0.8429\n",
      "Epoch 144/150\n",
      "90/90 [==============================] - 0s 1ms/step - loss: 0.3676 - accuracy: 0.8339\n",
      "Epoch 145/150\n",
      "90/90 [==============================] - 0s 1ms/step - loss: 0.3618 - accuracy: 0.8418\n",
      "Epoch 146/150\n",
      "90/90 [==============================] - 0s 1ms/step - loss: 0.3609 - accuracy: 0.8395\n",
      "Epoch 147/150\n",
      "90/90 [==============================] - 0s 1ms/step - loss: 0.3604 - accuracy: 0.8507\n",
      "Epoch 148/150\n",
      "90/90 [==============================] - 0s 1ms/step - loss: 0.3614 - accuracy: 0.8384\n",
      "Epoch 149/150\n",
      "90/90 [==============================] - 0s 1ms/step - loss: 0.3618 - accuracy: 0.8440\n",
      "Epoch 150/150\n",
      "90/90 [==============================] - 0s 2ms/step - loss: 0.3651 - accuracy: 0.8339\n"
     ]
    },
    {
     "data": {
      "text/plain": [
       "<keras.callbacks.History at 0x17cbc1ab1f0>"
      ]
     },
     "execution_count": 44,
     "metadata": {},
     "output_type": "execute_result"
    }
   ],
   "source": [
    "#Training of the datasets\n",
    "# fit the keras model on the dataset\n",
    "model.fit(X_train, y_train, epochs=150, batch_size=10)"
   ]
  },
  {
   "cell_type": "code",
   "execution_count": 45,
   "id": "8cf82fea",
   "metadata": {},
   "outputs": [
    {
     "name": "stdout",
     "output_type": "stream",
     "text": [
      "14/14 [==============================] - 0s 846us/step\n"
     ]
    }
   ],
   "source": [
    "y_pred = model.predict(X_test)\n",
    "y_final = (y_pred > 0.5).astype(int).reshape(X_test.shape[0])"
   ]
  },
  {
   "cell_type": "code",
   "execution_count": 46,
   "id": "b15c4374",
   "metadata": {},
   "outputs": [
    {
     "data": {
      "text/html": [
       "<div>\n",
       "<style scoped>\n",
       "    .dataframe tbody tr th:only-of-type {\n",
       "        vertical-align: middle;\n",
       "    }\n",
       "\n",
       "    .dataframe tbody tr th {\n",
       "        vertical-align: top;\n",
       "    }\n",
       "\n",
       "    .dataframe thead th {\n",
       "        text-align: right;\n",
       "    }\n",
       "</style>\n",
       "<table border=\"1\" class=\"dataframe\">\n",
       "  <thead>\n",
       "    <tr style=\"text-align: right;\">\n",
       "      <th></th>\n",
       "      <th>PassengerId</th>\n",
       "      <th>Survived</th>\n",
       "    </tr>\n",
       "  </thead>\n",
       "  <tbody>\n",
       "    <tr>\n",
       "      <th>0</th>\n",
       "      <td>892</td>\n",
       "      <td>0</td>\n",
       "    </tr>\n",
       "    <tr>\n",
       "      <th>1</th>\n",
       "      <td>893</td>\n",
       "      <td>0</td>\n",
       "    </tr>\n",
       "    <tr>\n",
       "      <th>2</th>\n",
       "      <td>894</td>\n",
       "      <td>0</td>\n",
       "    </tr>\n",
       "    <tr>\n",
       "      <th>3</th>\n",
       "      <td>895</td>\n",
       "      <td>0</td>\n",
       "    </tr>\n",
       "    <tr>\n",
       "      <th>4</th>\n",
       "      <td>896</td>\n",
       "      <td>1</td>\n",
       "    </tr>\n",
       "    <tr>\n",
       "      <th>...</th>\n",
       "      <td>...</td>\n",
       "      <td>...</td>\n",
       "    </tr>\n",
       "    <tr>\n",
       "      <th>413</th>\n",
       "      <td>1305</td>\n",
       "      <td>0</td>\n",
       "    </tr>\n",
       "    <tr>\n",
       "      <th>414</th>\n",
       "      <td>1306</td>\n",
       "      <td>1</td>\n",
       "    </tr>\n",
       "    <tr>\n",
       "      <th>415</th>\n",
       "      <td>1307</td>\n",
       "      <td>0</td>\n",
       "    </tr>\n",
       "    <tr>\n",
       "      <th>416</th>\n",
       "      <td>1308</td>\n",
       "      <td>0</td>\n",
       "    </tr>\n",
       "    <tr>\n",
       "      <th>417</th>\n",
       "      <td>1309</td>\n",
       "      <td>1</td>\n",
       "    </tr>\n",
       "  </tbody>\n",
       "</table>\n",
       "<p>418 rows × 2 columns</p>\n",
       "</div>"
      ],
      "text/plain": [
       "     PassengerId  Survived\n",
       "0            892         0\n",
       "1            893         0\n",
       "2            894         0\n",
       "3            895         0\n",
       "4            896         1\n",
       "..           ...       ...\n",
       "413         1305         0\n",
       "414         1306         1\n",
       "415         1307         0\n",
       "416         1308         0\n",
       "417         1309         1\n",
       "\n",
       "[418 rows x 2 columns]"
      ]
     },
     "execution_count": 46,
     "metadata": {},
     "output_type": "execute_result"
    }
   ],
   "source": [
    "output = pd.DataFrame({'PassengerId': survivor['PassengerId'], 'Survived': y_final})\n",
    "output"
   ]
  },
  {
   "cell_type": "code",
   "execution_count": 47,
   "id": "e4b58e08",
   "metadata": {},
   "outputs": [
    {
     "name": "stdout",
     "output_type": "stream",
     "text": [
      "28/28 [==============================] - 0s 889us/step - loss: 0.3537 - accuracy: 0.8507\n",
      "Accuracy: 85.07\n"
     ]
    }
   ],
   "source": [
    "# evaluate the keras model\n",
    "_, accuracy = model.evaluate(X_train, y_train)\n",
    "print('Accuracy: %.2f' % (accuracy*100))"
   ]
  },
  {
   "cell_type": "code",
   "execution_count": 48,
   "id": "ad1c2016",
   "metadata": {},
   "outputs": [
    {
     "name": "stdout",
     "output_type": "stream",
     "text": [
      "accuracy : 86.42\n"
     ]
    }
   ],
   "source": [
    "#Choosing the model which is KNN\n",
    "from sklearn.model_selection import train_test_split\n",
    "from sklearn.neighbors import KNeighborsClassifier\n",
    "#Training of the model\n",
    "knn = KNeighborsClassifier(n_neighbors = 5)\n",
    "knn.fit(X_train, y_train)\n",
    "y_pred1 = knn.predict(X_test)\n",
    "#evaluation of the model\n",
    "accu_knn = round(knn.score(X_train, y_train) * 100, 2)\n",
    "print(\"accuracy :\", accu_knn)"
   ]
  },
  {
   "cell_type": "code",
   "execution_count": 49,
   "id": "0b74e18e",
   "metadata": {},
   "outputs": [
    {
     "name": "stdout",
     "output_type": "stream",
     "text": [
      "accuracy : 82.94\n"
     ]
    }
   ],
   "source": [
    "#Choosing the model which is LogisticRegression\n",
    "from sklearn.linear_model import LogisticRegression\n",
    "from sklearn.metrics import accuracy_score, confusion_matrix\n",
    "#training of the model\n",
    "log_reg = LogisticRegression()\n",
    "log_reg.fit(X_train, y_train)\n",
    "y_pred2 = log_reg.predict(X_test)\n",
    "#Evaluation of the model\n",
    "accu_logis = round(log_reg.score(X_train, y_train) * 100, 2)\n",
    "print(\"accuracy :\", accu_logis)"
   ]
  },
  {
   "cell_type": "code",
   "execution_count": 50,
   "id": "f5d624af",
   "metadata": {},
   "outputs": [],
   "source": [
    "#Hyperparameter Tuning\n",
    "n_estimators = [5,20,50,100] # number of trees in the random forest\n",
    "max_features = ['auto', 'sqrt'] # number of features in consideration at every split\n",
    "max_depth = [int(x) for x in np.linspace(10, 120, num = 12)] # maximum number of levels allowed in each decision tree\n",
    "min_samples_split = [2, 6, 10] # minimum sample number to split a node\n",
    "min_samples_leaf = [1, 3, 4] # minimum sample number that can be stored in a leaf node\n",
    "bootstrap = [True, False] # method used to sample data points\n",
    "\n",
    "random_grid = {'n_estimators': n_estimators,\n",
    "\n",
    "'max_features': max_features,\n",
    "\n",
    "'max_depth': max_depth,\n",
    "\n",
    "'min_samples_split': min_samples_split,\n",
    "\n",
    "'min_samples_leaf': min_samples_leaf,\n",
    "\n",
    "'bootstrap': bootstrap}"
   ]
  },
  {
   "cell_type": "code",
   "execution_count": 51,
   "id": "245fe06f",
   "metadata": {},
   "outputs": [],
   "source": [
    "#Predicting\n",
    "survivor = pd.read_csv('test.csv',encoding='latin-1')\n",
    "z = survivor[\"Name\"].values"
   ]
  },
  {
   "cell_type": "code",
   "execution_count": null,
   "id": "49c16442",
   "metadata": {},
   "outputs": [],
   "source": [
    "#Comparison\n",
    "#the logistic regression model  seems to be the not the best model out of the 3. the accuracy of 82.94 is a pretty good score for the Titanic dataset.\n",
    "#the knn model seems to be the best model out of the 3 while having the accuracy of 86.42% of predicting survivor\n",
    "#the keras model is in the middle of the 3 while having an accuracy of 85.07"
   ]
  },
  {
   "cell_type": "code",
   "execution_count": null,
   "id": "b9ac9958",
   "metadata": {},
   "outputs": [],
   "source": [
    "#Analysis\n",
    "#visually inspect the head of the dataset,Examine the train dataset to understand in particular if the data is tidy, shape of the dataset,examine datatypes, examine missing values, unique counts and build a data dictictionary dataframe. Always use the 7 steps of machine learning. "
   ]
  },
  {
   "cell_type": "code",
   "execution_count": null,
   "id": "23d06941",
   "metadata": {},
   "outputs": [],
   "source": [
    "#conclusion\n",
    "#We started our experiment by examining the dataset, posing queries, and then using mining and visualization to discover solutions. We normalized the data, created a few new features, processed missing values properly, and replaced them. Using dummy variables, we converted the category variables as well. The best model was then developed after we generated a number of machine learning models and compared them. "
   ]
  }
 ],
 "metadata": {
  "kernelspec": {
   "display_name": "Python 3 (ipykernel)",
   "language": "python",
   "name": "python3"
  },
  "language_info": {
   "codemirror_mode": {
    "name": "ipython",
    "version": 3
   },
   "file_extension": ".py",
   "mimetype": "text/x-python",
   "name": "python",
   "nbconvert_exporter": "python",
   "pygments_lexer": "ipython3",
   "version": "3.9.12"
  }
 },
 "nbformat": 4,
 "nbformat_minor": 5
}

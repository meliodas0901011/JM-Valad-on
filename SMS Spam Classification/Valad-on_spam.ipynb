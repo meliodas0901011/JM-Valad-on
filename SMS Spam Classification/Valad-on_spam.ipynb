{
 "cells": [
  {
   "cell_type": "code",
   "execution_count": 1,
   "id": "5b4fc139",
   "metadata": {},
   "outputs": [
    {
     "name": "stdout",
     "output_type": "stream",
     "text": [
      "  label                                               text\n",
      "0   ham  Go until jurong point, crazy.. Available only ...\n",
      "1   ham                      Ok lar... Joking wif u oni...\n",
      "2  spam  Free entry in 2 a wkly comp to win FA Cup fina...\n",
      "3   ham  U dun say so early hor... U c already then say...\n",
      "4   ham  Nah I don't think he goes to usf, he lives aro...\n"
     ]
    }
   ],
   "source": [
    "#import necessary libraries\n",
    "import numpy as np # linear algebra\n",
    "import pandas as pd # data processing\n",
    "\n",
    "# gathering and processing of data\n",
    "data = pd.read_csv('spam.csv',encoding='latin-1')\n",
    "data = data.drop([\"Unnamed: 2\", \"Unnamed: 3\", \"Unnamed: 4\"], axis=1)\n",
    "data = data.rename(columns={\"v1\":'label', \"v2\":'text'})\n",
    "print(data.head())"
   ]
  },
  {
   "cell_type": "code",
   "execution_count": 2,
   "id": "621841be",
   "metadata": {},
   "outputs": [
    {
     "data": {
      "text/html": [
       "<div>\n",
       "<style scoped>\n",
       "    .dataframe tbody tr th:only-of-type {\n",
       "        vertical-align: middle;\n",
       "    }\n",
       "\n",
       "    .dataframe tbody tr th {\n",
       "        vertical-align: top;\n",
       "    }\n",
       "\n",
       "    .dataframe thead th {\n",
       "        text-align: right;\n",
       "    }\n",
       "</style>\n",
       "<table border=\"1\" class=\"dataframe\">\n",
       "  <thead>\n",
       "    <tr style=\"text-align: right;\">\n",
       "      <th></th>\n",
       "      <th>category</th>\n",
       "      <th>message</th>\n",
       "    </tr>\n",
       "  </thead>\n",
       "  <tbody>\n",
       "    <tr>\n",
       "      <th>0</th>\n",
       "      <td>ham</td>\n",
       "      <td>Go until jurong point, crazy.. Available only ...</td>\n",
       "    </tr>\n",
       "    <tr>\n",
       "      <th>1</th>\n",
       "      <td>ham</td>\n",
       "      <td>Ok lar... Joking wif u oni...</td>\n",
       "    </tr>\n",
       "    <tr>\n",
       "      <th>2</th>\n",
       "      <td>spam</td>\n",
       "      <td>Free entry in 2 a wkly comp to win FA Cup fina...</td>\n",
       "    </tr>\n",
       "    <tr>\n",
       "      <th>3</th>\n",
       "      <td>ham</td>\n",
       "      <td>U dun say so early hor... U c already then say...</td>\n",
       "    </tr>\n",
       "    <tr>\n",
       "      <th>4</th>\n",
       "      <td>ham</td>\n",
       "      <td>Nah I don't think he goes to usf, he lives aro...</td>\n",
       "    </tr>\n",
       "  </tbody>\n",
       "</table>\n",
       "</div>"
      ],
      "text/plain": [
       "  category                                            message\n",
       "0      ham  Go until jurong point, crazy.. Available only ...\n",
       "1      ham                      Ok lar... Joking wif u oni...\n",
       "2     spam  Free entry in 2 a wkly comp to win FA Cup fina...\n",
       "3      ham  U dun say so early hor... U c already then say...\n",
       "4      ham  Nah I don't think he goes to usf, he lives aro..."
      ]
     },
     "execution_count": 2,
     "metadata": {},
     "output_type": "execute_result"
    }
   ],
   "source": [
    "#Analyzing of the data\n",
    "data.columns=['category', 'message']\n",
    "data.head()"
   ]
  },
  {
   "cell_type": "code",
   "execution_count": 3,
   "id": "240e9e50",
   "metadata": {},
   "outputs": [
    {
     "data": {
      "text/plain": [
       "ham     4825\n",
       "spam     747\n",
       "Name: category, dtype: int64"
      ]
     },
     "execution_count": 3,
     "metadata": {},
     "output_type": "execute_result"
    }
   ],
   "source": [
    "#Analyzing of the data\n",
    "data.category.value_counts()"
   ]
  },
  {
   "cell_type": "code",
   "execution_count": 4,
   "id": "1cde365e",
   "metadata": {},
   "outputs": [
    {
     "name": "stderr",
     "output_type": "stream",
     "text": [
      "C:\\Users\\jmval\\anaconda3\\lib\\site-packages\\seaborn\\_decorators.py:36: FutureWarning: Pass the following variable as a keyword arg: x. From version 0.12, the only valid positional argument will be `data`, and passing other arguments without an explicit keyword will result in an error or misinterpretation.\n",
      "  warnings.warn(\n"
     ]
    },
    {
     "data": {
      "image/png": "[encoded data removed]",
      "text/plain": [
       "<Figure size 432x288 with 1 Axes>"
      ]
     },
     "metadata": {
      "needs_background": "light"
     },
     "output_type": "display_data"
    }
   ],
   "source": [
    "#Visualization\n",
    "import matplotlib.pyplot as plt\n",
    "import seaborn as sns\n",
    "%matplotlib inline\n",
    "\n",
    "sns.countplot(data.category)\n",
    "plt.show()"
   ]
  },
  {
   "cell_type": "code",
   "execution_count": 5,
   "id": "3c4167e2",
   "metadata": {},
   "outputs": [
    {
     "data": {
      "text/plain": [
       "category    0\n",
       "message     0\n",
       "dtype: int64"
      ]
     },
     "execution_count": 5,
     "metadata": {},
     "output_type": "execute_result"
    }
   ],
   "source": [
    "#checking of missing values\n",
    "data.isnull().sum()"
   ]
  },
  {
   "cell_type": "code",
   "execution_count": 6,
   "id": "d4d3567b",
   "metadata": {},
   "outputs": [],
   "source": [
    "# Preparing of the data\n",
    "data_spam  = data[data.category == 'spam'].copy()\n",
    "data_ham = data[data.category == 'ham'].copy()\n",
    "\n",
    "def generate_wordcloud(data_frame, category):\n",
    "    text = ' '.join(data_frame['message'].astype(str).tolist())\n",
    "    stopwords = set(wordcloud.STOPWORDS)\n",
    "    \n",
    "    fig_wordcloud = wordcloud.WordCloud(stopwords=stopwords,background_color='lightgrey',\n",
    "                    colormap='viridis', width=800, height=600).generate(text)\n",
    "    \n",
    "    plt.figure(figsize=(10,7), frameon=True)\n",
    "    plt.imshow(fig_wordcloud)  \n",
    "    plt.axis('off')\n",
    "    plt.title(category, fontsize=20 )\n",
    "    plt.show()"
   ]
  },
  {
   "cell_type": "code",
   "execution_count": 7,
   "id": "a7bf3a96",
   "metadata": {},
   "outputs": [
    {
     "data": {
      "text/html": [
       "<div>\n",
       "<style scoped>\n",
       "    .dataframe tbody tr th:only-of-type {\n",
       "        vertical-align: middle;\n",
       "    }\n",
       "\n",
       "    .dataframe tbody tr th {\n",
       "        vertical-align: top;\n",
       "    }\n",
       "\n",
       "    .dataframe thead th {\n",
       "        text-align: right;\n",
       "    }\n",
       "</style>\n",
       "<table border=\"1\" class=\"dataframe\">\n",
       "  <thead>\n",
       "    <tr style=\"text-align: right;\">\n",
       "      <th></th>\n",
       "      <th>category</th>\n",
       "      <th>message</th>\n",
       "    </tr>\n",
       "  </thead>\n",
       "  <tbody>\n",
       "    <tr>\n",
       "      <th>0</th>\n",
       "      <td>0</td>\n",
       "      <td>Go until jurong point, crazy.. Available only ...</td>\n",
       "    </tr>\n",
       "    <tr>\n",
       "      <th>1</th>\n",
       "      <td>0</td>\n",
       "      <td>Ok lar... Joking wif u oni...</td>\n",
       "    </tr>\n",
       "    <tr>\n",
       "      <th>2</th>\n",
       "      <td>1</td>\n",
       "      <td>Free entry in 2 a wkly comp to win FA Cup fina...</td>\n",
       "    </tr>\n",
       "    <tr>\n",
       "      <th>3</th>\n",
       "      <td>0</td>\n",
       "      <td>U dun say so early hor... U c already then say...</td>\n",
       "    </tr>\n",
       "    <tr>\n",
       "      <th>4</th>\n",
       "      <td>0</td>\n",
       "      <td>Nah I don't think he goes to usf, he lives aro...</td>\n",
       "    </tr>\n",
       "  </tbody>\n",
       "</table>\n",
       "</div>"
      ],
      "text/plain": [
       "   category                                            message\n",
       "0         0  Go until jurong point, crazy.. Available only ...\n",
       "1         0                      Ok lar... Joking wif u oni...\n",
       "2         1  Free entry in 2 a wkly comp to win FA Cup fina...\n",
       "3         0  U dun say so early hor... U c already then say...\n",
       "4         0  Nah I don't think he goes to usf, he lives aro..."
      ]
     },
     "execution_count": 7,
     "metadata": {},
     "output_type": "execute_result"
    }
   ],
   "source": [
    "#converting category into numerical data wherein spam = 1 and ham = 0\n",
    "data['category'] = data['category'].map( \n",
    "    {'spam': 1, 'ham': 0} )\n",
    "\n",
    "data.head()"
   ]
  },
  {
   "cell_type": "code",
   "execution_count": 8,
   "id": "540275fa",
   "metadata": {},
   "outputs": [],
   "source": [
    "# Splitting of the data into train and test set\n",
    "\n",
    "from sklearn.model_selection import train_test_split\n",
    "\n",
    "X = data['message'].values\n",
    "y = data['category'].values\n",
    "\n",
    "X_train, X_test, y_train, y_test = train_test_split(X, y, test_size=0.20, random_state=42)"
   ]
  },
  {
   "cell_type": "code",
   "execution_count": 9,
   "id": "d11f822b",
   "metadata": {},
   "outputs": [],
   "source": [
    "# importing libraries of keras to preprocess the data\n",
    "\n",
    "from tensorflow.keras.preprocessing.sequence import pad_sequences\n",
    "from tensorflow.keras.preprocessing.text import Tokenizer\n",
    "\n",
    "token = Tokenizer() #procesing of text into phrase, words, etc.\n",
    "token.fit_on_texts(X_train) #fitting of the message"
   ]
  },
  {
   "cell_type": "code",
   "execution_count": 10,
   "id": "64aef27c",
   "metadata": {},
   "outputs": [
    {
     "name": "stdout",
     "output_type": "stream",
     "text": [
      "[[38, 30, 8, 5, 273, 1989, 81, 116, 26, 11, 1656, 322, 10, 53, 18, 299, 30, 349, 1990], [799, 15, 2555, 1442, 1127, 192, 2556, 171, 12, 98, 1991, 44, 195, 1657, 2557, 1992, 2558, 21, 9, 4, 203, 1025, 225]]\n"
     ]
    }
   ],
   "source": [
    "# applying sequences from the dictionary on both training and test dataset\n",
    "\n",
    "enco_train = token.texts_to_sequences(X_train)\n",
    "enco_test = token.texts_to_sequences(X_test)\n",
    "print(enco_train[0:2])"
   ]
  },
  {
   "cell_type": "code",
   "execution_count": 11,
   "id": "d7a24ec5",
   "metadata": {},
   "outputs": [
    {
     "name": "stdout",
     "output_type": "stream",
     "text": [
      "[[ 322   10   53 ...   30  349 1990]\n",
      " [1992 2558   21 ...  203 1025  225]\n",
      " [  83 1443    4 ...    2 3794 3795]\n",
      " ...\n",
      " [1477   30 2063 ...  239   30 2064]\n",
      " [ 763 1679 1161 ...    0    0    0]\n",
      " [   8  155   20 ...    8  290  175]]\n"
     ]
    }
   ],
   "source": [
    "# applying 8 words padding to training and test dataset\n",
    "\n",
    "max_length = 8\n",
    "\n",
    "pad_train = pad_sequences(enco_train, maxlen = max_length, padding = 'post')\n",
    "pad_test = pad_sequences(enco_test, maxlen = max_length, padding = 'post')\n",
    "\n",
    "print(pad_train)"
   ]
  },
  {
   "cell_type": "code",
   "execution_count": 12,
   "id": "c680419a",
   "metadata": {},
   "outputs": [],
   "source": [
    "#choosing a model\n",
    "# importing libraries for model building\n",
    "\n",
    "from tensorflow.keras.models import Sequential\n",
    "from tensorflow.keras.layers import Dense\n",
    "from tensorflow.keras.layers import Flatten\n",
    "from tensorflow.keras.layers import Dropout\n",
    "from tensorflow.keras.layers import Embedding\n",
    "from tensorflow.keras.callbacks import EarlyStopping"
   ]
  },
  {
   "cell_type": "code",
   "execution_count": 13,
   "id": "6643ba93",
   "metadata": {},
   "outputs": [
    {
     "name": "stdout",
     "output_type": "stream",
     "text": [
      "Model: \"sequential\"\n",
      "_________________________________________________________________\n",
      " Layer (type)                Output Shape              Param #   \n",
      "=================================================================\n",
      " embedding (Embedding)       (None, 8, 24)             190920    \n",
      "                                                                 \n",
      " flatten (Flatten)           (None, 192)               0         \n",
      "                                                                 \n",
      " dense (Dense)               (None, 500)               96500     \n",
      "                                                                 \n",
      " dense_1 (Dense)             (None, 200)               100200    \n",
      "                                                                 \n",
      " dropout (Dropout)           (None, 200)               0         \n",
      "                                                                 \n",
      " dense_2 (Dense)             (None, 100)               20100     \n",
      "                                                                 \n",
      " dense_3 (Dense)             (None, 1)                 101       \n",
      "                                                                 \n",
      "=================================================================\n",
      "Total params: 407,821\n",
      "Trainable params: 407,821\n",
      "Non-trainable params: 0\n",
      "_________________________________________________________________\n",
      "None\n"
     ]
    }
   ],
   "source": [
    "vocab_size = len(token.word_index) + 1\n",
    "\n",
    "# creating a model \n",
    "\n",
    "mod = Sequential()\n",
    "mod.add(Embedding(vocab_size, 24, input_length = max_length))\n",
    "mod.add(Flatten())\n",
    "mod.add(Dense(500, activation='relu'))\n",
    "mod.add(Dense(200, activation='relu'))\n",
    "mod.add(Dropout(0.5))\n",
    "mod.add(Dense(100, activation='relu'))\n",
    "mod.add(Dense(1, activation='sigmoid'))\n",
    "\n",
    "# compile the model\n",
    "mod.compile(optimizer = 'rmsprop', loss = 'binary_crossentropy', metrics = ['accuracy'])\n",
    "\n",
    "# summarize the model\n",
    "print(mod.summary())"
   ]
  },
  {
   "cell_type": "code",
   "execution_count": null,
   "id": "735db924",
   "metadata": {},
   "outputs": [
    {
     "name": "stdout",
     "output_type": "stream",
     "text": [
      "Epoch 1/20\n",
      "140/140 [==============================] - 1s 3ms/step - loss: 0.1910 - accuracy: 0.9266\n",
      "Epoch 2/20\n",
      "140/140 [==============================] - 0s 3ms/step - loss: 0.0421 - accuracy: 0.9872\n",
      "Epoch 3/20\n",
      "140/140 [==============================] - 0s 3ms/step - loss: 0.0136 - accuracy: 0.9964\n",
      "Epoch 4/20\n",
      "140/140 [==============================] - 0s 3ms/step - loss: 0.0021 - accuracy: 0.9996\n",
      "Epoch 5/20\n",
      "140/140 [==============================] - 0s 3ms/step - loss: 7.2101e-05 - accuracy: 1.0000\n",
      "Epoch 6/20\n",
      "103/140 [=====================>........] - ETA: 0s - loss: 2.0514e-07 - accuracy: 1.0000"
     ]
    }
   ],
   "source": [
    "#Training of the model\n",
    "early_stop = EarlyStopping(monitor='val_loss', mode='min', verbose=1, patience=10)\n",
    "\n",
    "# fit the model\n",
    "mod.fit(x=pad_train,\n",
    "         y=y_train,\n",
    "         epochs=20,\n",
    "                 )"
   ]
  },
  {
   "cell_type": "code",
   "execution_count": null,
   "id": "13aa6d79",
   "metadata": {},
   "outputs": [],
   "source": [
    "#Evaluation of the model\n",
    "from sklearn.metrics import confusion_matrix, accuracy_score\n",
    "\n",
    "output = (mod.predict(pad_test) > 0.5).astype(\"int32\").tolist()\n",
    "output"
   ]
  },
  {
   "cell_type": "code",
   "execution_count": null,
   "id": "0f9e829b",
   "metadata": {},
   "outputs": [],
   "source": [
    "#saving the model and import pickle for transport of the data\n",
    "mod.save(\"spam_detection_model\")\n",
    "\n",
    "import pickle\n",
    "\n",
    "with open('spam_detection_model/tokenizer.pkl', 'wb') as output:\n",
    "   pickle.dump(token, output, pickle.HIGHEST_PROTOCOL)"
   ]
  },
  {
   "cell_type": "code",
   "execution_count": null,
   "id": "0d6662a7",
   "metadata": {},
   "outputs": [],
   "source": [
    "#load the previous model\n",
    "import tensorflow as tf\n",
    "\n",
    "model = tf.keras.models.load_model(\"spam_detection_model\")\n",
    "with open('spam_detection_model/tokenizer.pkl', 'rb') as input:\n",
    "    tokenizer = pickle.load(input)"
   ]
  },
  {
   "cell_type": "code",
   "execution_count": null,
   "id": "52c8241d",
   "metadata": {
    "scrolled": true
   },
   "outputs": [],
   "source": [
    "#importing another csv file to test the prediction of data\n",
    "sms = pd.read_csv('output_spam.csv',encoding='latin-1')\n",
    "sms.columns=['category', 'textx']\n",
    "z = sms['textx'].values\n",
    "sms.head()\n"
   ]
  },
  {
   "cell_type": "code",
   "execution_count": null,
   "id": "f37ed65c",
   "metadata": {},
   "outputs": [],
   "source": [
    "#predicting of the data\n",
    "sms_proc = token.texts_to_sequences(z)\n",
    "sms_proc = pad_sequences(sms_proc, maxlen=max_length, padding='post')\n",
    "pred = (model.predict(sms_proc) > 0.5).astype(\"int32\").tolist()\n",
    "pred"
   ]
  },
  {
   "cell_type": "code",
   "execution_count": null,
   "id": "5db5ebc6",
   "metadata": {},
   "outputs": [],
   "source": [
    "prediction_output = pd.DataFrame( pred , columns = ['Output prediction']).to_csv('Valad-on_spam_output.csv')"
   ]
  },
  {
   "cell_type": "code",
   "execution_count": null,
   "id": "70e2c370",
   "metadata": {},
   "outputs": [],
   "source": []
  }
 ],
 "metadata": {
  "kernelspec": {
   "display_name": "Python 3 (ipykernel)",
   "language": "python",
   "name": "python3"
  },
  "language_info": {
   "codemirror_mode": {
    "name": "ipython",
    "version": 3
   },
   "file_extension": ".py",
   "mimetype": "text/x-python",
   "name": "python",
   "nbconvert_exporter": "python",
   "pygments_lexer": "ipython3",
   "version": "3.9.12"
  }
 },
 "nbformat": 4,
 "nbformat_minor": 5
}
